{
 "cells": [
  {
   "cell_type": "markdown",
   "metadata": {},
   "source": [
    "# Classification of twitter water events\n",
    "### - using deep neural networks\n",
    "\n",
    "Author: Fadoua Ghourabi (fadouaghourabi@gmail.com)\n",
    "\n",
    "Date: July 17, 2019"
   ]
  },
  {
   "cell_type": "code",
   "execution_count": 5,
   "metadata": {},
   "outputs": [],
   "source": [
    "import os\n",
    "import time\n",
    "import pandas as pd\n",
    "import numpy as np\n",
    "import tensorflow as tf\n",
    "from tensorflow import keras\n",
    "from keras import losses\n",
    "from ipynb.fs.full.fr_twitter_water_classification_ML import train_test_datasets\n",
    "from ipynb.fs.full.fr_twitter_water_datasets import tweet_avg_w2v, tweet_avg_w2v_tfidf, tweet_d2v, tweet_avg_ft\n",
    "from sklearn.model_selection import train_test_split\n",
    "from sklearn.metrics import confusion_matrix, accuracy_score"
   ]
  },
  {
   "cell_type": "markdown",
   "metadata": {},
   "source": [
    "## Water corpus"
   ]
  },
  {
   "cell_type": "markdown",
   "metadata": {},
   "source": [
    "### Strategy 1: Averaging word2vectors"
   ]
  },
  {
   "cell_type": "code",
   "execution_count": 6,
   "metadata": {},
   "outputs": [],
   "source": [
    "vecs, labels = pd.DataFrame(tweet_avg_w2v[\"TwVec\"].values.tolist()), tweet_avg_w2v[\"Event\"]\n",
    "X, y, X_train, X_test, y_train, y_test = train_test_datasets(vecs,labels,stratify=True,random=43)"
   ]
  },
  {
   "cell_type": "code",
   "execution_count": 7,
   "metadata": {},
   "outputs": [
    {
     "name": "stderr",
     "output_type": "stream",
     "text": [
      "W0718 10:28:03.680335 140735831102336 deprecation.py:506] From /anaconda3/lib/python3.7/site-packages/tensorflow/python/ops/init_ops.py:1251: calling VarianceScaling.__init__ (from tensorflow.python.ops.init_ops) with dtype is deprecated and will be removed in a future version.\n",
      "Instructions for updating:\n",
      "Call initializer instance with the dtype argument instead of passing it to the constructor\n",
      "W0718 10:28:03.771684 140735831102336 deprecation_wrapper.py:119] From /anaconda3/lib/python3.7/site-packages/keras/backend/tensorflow_backend.py:3295: The name tf.log is deprecated. Please use tf.math.log instead.\n",
      "\n"
     ]
    }
   ],
   "source": [
    "model = tf.keras.Sequential([keras.layers.Dense(units=5, input_shape=[50], activation=tf.nn.relu),\n",
    "                             keras.layers.Dense(units=1, input_shape=[5], activation=tf.nn.softmax)])\n",
    "model.compile(optimizer='sgd', loss=losses.categorical_crossentropy)"
   ]
  },
  {
   "cell_type": "code",
   "execution_count": 8,
   "metadata": {},
   "outputs": [
    {
     "name": "stderr",
     "output_type": "stream",
     "text": [
      "W0718 10:28:03.860865 140735831102336 deprecation.py:323] From /anaconda3/lib/python3.7/site-packages/tensorflow/python/ops/math_grad.py:1250: add_dispatch_support.<locals>.wrapper (from tensorflow.python.ops.array_ops) is deprecated and will be removed in a future version.\n",
      "Instructions for updating:\n",
      "Use tf.where in 2.0, which has the same broadcast rule as np.where\n"
     ]
    },
    {
     "name": "stdout",
     "output_type": "stream",
     "text": [
      "Epoch 1/10\n",
      "401/401 [==============================] - 0s 466us/sample - loss: 2.9728e-08\n",
      "Epoch 2/10\n",
      "401/401 [==============================] - 0s 35us/sample - loss: 2.9728e-08\n",
      "Epoch 3/10\n",
      "401/401 [==============================] - 0s 34us/sample - loss: 2.9728e-08\n",
      "Epoch 4/10\n",
      "401/401 [==============================] - 0s 34us/sample - loss: 2.9728e-08\n",
      "Epoch 5/10\n",
      "401/401 [==============================] - 0s 36us/sample - loss: 2.9728e-08\n",
      "Epoch 6/10\n",
      "401/401 [==============================] - 0s 37us/sample - loss: 2.9728e-08\n",
      "Epoch 7/10\n",
      "401/401 [==============================] - 0s 32us/sample - loss: 2.9728e-08\n",
      "Epoch 8/10\n",
      "401/401 [==============================] - 0s 33us/sample - loss: 2.9728e-08\n",
      "Epoch 9/10\n",
      "401/401 [==============================] - 0s 31us/sample - loss: 2.9728e-08\n",
      "Epoch 10/10\n",
      "401/401 [==============================] - 0s 34us/sample - loss: 2.9728e-08\n"
     ]
    },
    {
     "data": {
      "text/plain": [
       "<tensorflow.python.keras.callbacks.History at 0x1c2d55ce10>"
      ]
     },
     "execution_count": 8,
     "metadata": {},
     "output_type": "execute_result"
    }
   ],
   "source": [
    "model.fit(X_train, y_train, epochs=10)"
   ]
  },
  {
   "cell_type": "code",
   "execution_count": 9,
   "metadata": {},
   "outputs": [
    {
     "name": "stdout",
     "output_type": "stream",
     "text": [
      "401/401 [==============================] - 0s 70us/sample - loss: 2.9728e-08\n",
      "134/134 [==============================] - 0s 27us/sample - loss: 3.0247e-08\n"
     ]
    },
    {
     "data": {
      "text/plain": [
       "(2.9728002386170778e-08, 3.0247133169601214e-08)"
      ]
     },
     "execution_count": 9,
     "metadata": {},
     "output_type": "execute_result"
    }
   ],
   "source": [
    "model.evaluate(X_train, y_train),model.evaluate(X_test, y_test)"
   ]
  },
  {
   "cell_type": "code",
   "execution_count": 10,
   "metadata": {},
   "outputs": [],
   "source": [
    "y_pred = model.predict(X_test)"
   ]
  },
  {
   "cell_type": "code",
   "execution_count": 11,
   "metadata": {},
   "outputs": [
    {
     "data": {
      "text/plain": [
       "array([[  0, 100],\n",
       "       [  0,  34]])"
      ]
     },
     "execution_count": 11,
     "metadata": {},
     "output_type": "execute_result"
    }
   ],
   "source": [
    "confusion_matrix(y_test, y_pred)"
   ]
  },
  {
   "cell_type": "markdown",
   "metadata": {},
   "source": [
    "### Strategy 2: Averaging word2vectors with TF-IDF"
   ]
  },
  {
   "cell_type": "code",
   "execution_count": 12,
   "metadata": {},
   "outputs": [],
   "source": [
    "vecs, labels = pd.DataFrame(tweet_avg_w2v_tfidf[\"TwVec\"].values.tolist()), tweet_avg_w2v_tfidf[\"Event\"]\n",
    "X, y, X_train, X_test, y_train, y_test = train_test_datasets(vecs,labels,stratify=True,random=43)"
   ]
  },
  {
   "cell_type": "code",
   "execution_count": 13,
   "metadata": {},
   "outputs": [],
   "source": [
    "model_tfidf = tf.keras.Sequential([keras.layers.Dense(units=5, input_shape=[50], activation=tf.nn.relu),\n",
    "                                   keras.layers.Dense(units=1, input_shape=[5], activation=tf.nn.softmax)])\n",
    "model_tfidf.compile(optimizer='sgd', loss=losses.categorical_crossentropy)"
   ]
  },
  {
   "cell_type": "code",
   "execution_count": 14,
   "metadata": {},
   "outputs": [
    {
     "name": "stdout",
     "output_type": "stream",
     "text": [
      "Epoch 1/10\n",
      "401/401 [==============================] - 0s 274us/sample - loss: 2.9728e-08\n",
      "Epoch 2/10\n",
      "401/401 [==============================] - 0s 36us/sample - loss: 2.9728e-08\n",
      "Epoch 3/10\n",
      "401/401 [==============================] - 0s 34us/sample - loss: 2.9728e-08\n",
      "Epoch 4/10\n",
      "401/401 [==============================] - 0s 34us/sample - loss: 2.9728e-08\n",
      "Epoch 5/10\n",
      "401/401 [==============================] - 0s 35us/sample - loss: 2.9728e-08\n",
      "Epoch 6/10\n",
      "401/401 [==============================] - 0s 33us/sample - loss: 2.9728e-08\n",
      "Epoch 7/10\n",
      "401/401 [==============================] - 0s 34us/sample - loss: 2.9728e-08\n",
      "Epoch 8/10\n",
      "401/401 [==============================] - 0s 34us/sample - loss: 2.9728e-08\n",
      "Epoch 9/10\n",
      "401/401 [==============================] - 0s 36us/sample - loss: 2.9728e-08\n",
      "Epoch 10/10\n",
      "401/401 [==============================] - 0s 34us/sample - loss: 2.9728e-08\n"
     ]
    },
    {
     "data": {
      "text/plain": [
       "<tensorflow.python.keras.callbacks.History at 0x1c2d6c0630>"
      ]
     },
     "execution_count": 14,
     "metadata": {},
     "output_type": "execute_result"
    }
   ],
   "source": [
    "model_tfidf.fit(X_train, y_train, epochs=10)"
   ]
  },
  {
   "cell_type": "code",
   "execution_count": 15,
   "metadata": {},
   "outputs": [
    {
     "name": "stdout",
     "output_type": "stream",
     "text": [
      "401/401 [==============================] - 0s 23us/sample - loss: 2.9728e-08\n",
      "134/134 [==============================] - 0s 28us/sample - loss: 3.0247e-08\n"
     ]
    },
    {
     "data": {
      "text/plain": [
       "(2.9728002386170778e-08, 3.0247133169601214e-08)"
      ]
     },
     "execution_count": 15,
     "metadata": {},
     "output_type": "execute_result"
    }
   ],
   "source": [
    "model.evaluate(X_train, y_train),model.evaluate(X_test, y_test)"
   ]
  },
  {
   "cell_type": "code",
   "execution_count": 16,
   "metadata": {},
   "outputs": [],
   "source": [
    "y_pred = model.predict(X_test)"
   ]
  },
  {
   "cell_type": "code",
   "execution_count": 17,
   "metadata": {},
   "outputs": [
    {
     "data": {
      "text/plain": [
       "array([[  0, 100],\n",
       "       [  0,  34]])"
      ]
     },
     "execution_count": 17,
     "metadata": {},
     "output_type": "execute_result"
    }
   ],
   "source": [
    "confusion_matrix(y_test, y_pred)"
   ]
  },
  {
   "cell_type": "markdown",
   "metadata": {},
   "source": [
    "### Strategy 3: doc2vec"
   ]
  },
  {
   "cell_type": "code",
   "execution_count": 18,
   "metadata": {},
   "outputs": [],
   "source": [
    "vecs, labels = pd.DataFrame(tweet_d2v[\"TwVec\"].values.tolist()), tweet_d2v[\"Event\"]\n",
    "X, y, X_train, X_test, y_train, y_test = train_test_datasets(vecs, labels, stratify=True, random=43)"
   ]
  },
  {
   "cell_type": "code",
   "execution_count": 19,
   "metadata": {},
   "outputs": [],
   "source": [
    "model_d2v = tf.keras.Sequential([keras.layers.Dense(units=5, input_shape=[300], activation=tf.nn.relu),\n",
    "                                 keras.layers.Dense(units=5, input_shape=[5], activation=tf.nn.relu),\n",
    "                                 keras.layers.Dense(units=5, input_shape=[5], activation=tf.nn.relu),\n",
    "                                 keras.layers.Dense(units=1, input_shape=[5], activation=tf.nn.softmax)])\n",
    "model_d2v.compile(optimizer='sgd', loss=losses.categorical_crossentropy)"
   ]
  },
  {
   "cell_type": "code",
   "execution_count": 20,
   "metadata": {},
   "outputs": [
    {
     "name": "stdout",
     "output_type": "stream",
     "text": [
      "Epoch 1/10\n",
      "401/401 [==============================] - 0s 364us/sample - loss: 2.9728e-08\n",
      "Epoch 2/10\n",
      "401/401 [==============================] - 0s 39us/sample - loss: 2.9728e-08\n",
      "Epoch 3/10\n",
      "401/401 [==============================] - 0s 38us/sample - loss: 2.9728e-08\n",
      "Epoch 4/10\n",
      "401/401 [==============================] - 0s 40us/sample - loss: 2.9728e-08\n",
      "Epoch 5/10\n",
      "401/401 [==============================] - 0s 37us/sample - loss: 2.9728e-08\n",
      "Epoch 6/10\n",
      "401/401 [==============================] - 0s 37us/sample - loss: 2.9728e-08\n",
      "Epoch 7/10\n",
      "401/401 [==============================] - 0s 37us/sample - loss: 2.9728e-08\n",
      "Epoch 8/10\n",
      "401/401 [==============================] - 0s 38us/sample - loss: 2.9728e-08\n",
      "Epoch 9/10\n",
      "401/401 [==============================] - 0s 36us/sample - loss: 2.9728e-08\n",
      "Epoch 10/10\n",
      "401/401 [==============================] - 0s 34us/sample - loss: 2.9728e-08\n"
     ]
    },
    {
     "data": {
      "text/plain": [
       "<tensorflow.python.keras.callbacks.History at 0x1c143e5630>"
      ]
     },
     "execution_count": 20,
     "metadata": {},
     "output_type": "execute_result"
    }
   ],
   "source": [
    "model_d2v.fit(X_train, y_train, epochs=10)"
   ]
  },
  {
   "cell_type": "code",
   "execution_count": 21,
   "metadata": {},
   "outputs": [
    {
     "name": "stdout",
     "output_type": "stream",
     "text": [
      "401/401 [==============================] - 0s 111us/sample - loss: 2.9728e-08\n",
      "134/134 [==============================] - 0s 31us/sample - loss: 3.0247e-08\n"
     ]
    },
    {
     "data": {
      "text/plain": [
       "(2.9728002386170778e-08, 3.0247133169601214e-08)"
      ]
     },
     "execution_count": 21,
     "metadata": {},
     "output_type": "execute_result"
    }
   ],
   "source": [
    "model_d2v.evaluate(X_train, y_train),model_d2v.evaluate(X_test, y_test)"
   ]
  },
  {
   "cell_type": "code",
   "execution_count": 22,
   "metadata": {},
   "outputs": [],
   "source": [
    "y_pred = model_d2v.predict(X_test)"
   ]
  },
  {
   "cell_type": "code",
   "execution_count": 23,
   "metadata": {},
   "outputs": [
    {
     "data": {
      "text/plain": [
       "array([[  0, 100],\n",
       "       [  0,  34]])"
      ]
     },
     "execution_count": 23,
     "metadata": {},
     "output_type": "execute_result"
    }
   ],
   "source": [
    "confusion_matrix(y_test, y_pred)"
   ]
  },
  {
   "cell_type": "markdown",
   "metadata": {},
   "source": [
    "## FastText corpus"
   ]
  },
  {
   "cell_type": "code",
   "execution_count": 24,
   "metadata": {},
   "outputs": [],
   "source": [
    "vecs, labels = pd.DataFrame(tweet_avg_ft[\"TwVec\"].values.tolist()), tweet_avg_ft[\"Event\"]\n",
    "X, y, X_train, X_test, y_train, y_test = train_test_datasets(vecs,labels,stratify=True,random=43)"
   ]
  },
  {
   "cell_type": "code",
   "execution_count": 25,
   "metadata": {},
   "outputs": [],
   "source": [
    "model_ft = tf.keras.Sequential([keras.layers.Dense(units=10, input_shape=[300], activation=tf.nn.relu),\n",
    "                                keras.layers.Dense(units=1, input_shape=[10], activation=tf.nn.softmax)])\n",
    "model_ft.compile(optimizer='sgd', loss=losses.categorical_crossentropy)"
   ]
  },
  {
   "cell_type": "code",
   "execution_count": 26,
   "metadata": {},
   "outputs": [
    {
     "name": "stdout",
     "output_type": "stream",
     "text": [
      "Epoch 1/10\n",
      "401/401 [==============================] - 0s 350us/sample - loss: 2.9728e-08\n",
      "Epoch 2/10\n",
      "401/401 [==============================] - 0s 35us/sample - loss: 2.9728e-08\n",
      "Epoch 3/10\n",
      "401/401 [==============================] - 0s 35us/sample - loss: 2.9728e-08\n",
      "Epoch 4/10\n",
      "401/401 [==============================] - 0s 34us/sample - loss: 2.9728e-08\n",
      "Epoch 5/10\n",
      "401/401 [==============================] - 0s 35us/sample - loss: 2.9728e-08\n",
      "Epoch 6/10\n",
      "401/401 [==============================] - 0s 36us/sample - loss: 2.9728e-08\n",
      "Epoch 7/10\n",
      "401/401 [==============================] - 0s 36us/sample - loss: 2.9728e-08\n",
      "Epoch 8/10\n",
      "401/401 [==============================] - 0s 35us/sample - loss: 2.9728e-08\n",
      "Epoch 9/10\n",
      "401/401 [==============================] - 0s 35us/sample - loss: 2.9728e-08\n",
      "Epoch 10/10\n",
      "401/401 [==============================] - 0s 39us/sample - loss: 2.9728e-08\n"
     ]
    },
    {
     "data": {
      "text/plain": [
       "<tensorflow.python.keras.callbacks.History at 0x1a589ef438>"
      ]
     },
     "execution_count": 26,
     "metadata": {},
     "output_type": "execute_result"
    }
   ],
   "source": [
    "model_ft.fit(X_train, y_train, epochs=10)"
   ]
  },
  {
   "cell_type": "code",
   "execution_count": 27,
   "metadata": {},
   "outputs": [
    {
     "name": "stdout",
     "output_type": "stream",
     "text": [
      "401/401 [==============================] - 0s 121us/sample - loss: 2.9728e-08\n",
      "134/134 [==============================] - 0s 33us/sample - loss: 3.0247e-08\n"
     ]
    },
    {
     "data": {
      "text/plain": [
       "(2.9728002386170778e-08, 3.0247133169601214e-08)"
      ]
     },
     "execution_count": 27,
     "metadata": {},
     "output_type": "execute_result"
    }
   ],
   "source": [
    "model_ft.evaluate(X_train, y_train),model_ft.evaluate(X_test, y_test)"
   ]
  },
  {
   "cell_type": "code",
   "execution_count": 28,
   "metadata": {},
   "outputs": [],
   "source": [
    "y_pred = model_ft.predict(X_test)"
   ]
  },
  {
   "cell_type": "code",
   "execution_count": 29,
   "metadata": {},
   "outputs": [
    {
     "data": {
      "text/plain": [
       "array([[  0, 100],\n",
       "       [  0,  34]])"
      ]
     },
     "execution_count": 29,
     "metadata": {},
     "output_type": "execute_result"
    }
   ],
   "source": [
    "confusion_matrix(y_test, y_pred)"
   ]
  },
  {
   "cell_type": "code",
   "execution_count": null,
   "metadata": {},
   "outputs": [],
   "source": []
  }
 ],
 "metadata": {
  "kernelspec": {
   "display_name": "Python 3",
   "language": "python",
   "name": "python3"
  },
  "language_info": {
   "codemirror_mode": {
    "name": "ipython",
    "version": 3
   },
   "file_extension": ".py",
   "mimetype": "text/x-python",
   "name": "python",
   "nbconvert_exporter": "python",
   "pygments_lexer": "ipython3",
   "version": "3.7.2"
  }
 },
 "nbformat": 4,
 "nbformat_minor": 2
}
