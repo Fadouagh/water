{
 "cells": [
  {
   "cell_type": "markdown",
   "metadata": {},
   "source": [
    "# Data Representation in Natural Language Processing"
   ]
  },
  {
   "cell_type": "code",
   "execution_count": 1,
   "metadata": {},
   "outputs": [],
   "source": [
    "import pandas as pd\n",
    "import numpy as np\n",
    "from sklearn.feature_extraction.text import CountVectorizer\n",
    "import gensim"
   ]
  },
  {
   "cell_type": "code",
   "execution_count": 130,
   "metadata": {},
   "outputs": [],
   "source": [
    "tw_path = open(\"files/twData_clean.csv\",\"r\")\n",
    "tw_data = pd.read_csv(tw_path, header=0, encoding = 'unicode_escape')\n",
    "tweets = tw_data.TwContent.values"
   ]
  },
  {
   "cell_type": "markdown",
   "metadata": {},
   "source": [
    "## 1. CountVectorize"
   ]
  },
  {
   "cell_type": "code",
   "execution_count": 131,
   "metadata": {},
   "outputs": [],
   "source": [
    "def count_vec(text):\n",
    "    vectorizer = CountVectorizer()\n",
    "    vocabulary=vectorizer.fit(text)\n",
    "    doc_term_matrix= vectorizer.transform(text)\n",
    "    final=doc_term_matrix.toarray()\n",
    "    \n",
    "    return final"
   ]
  },
  {
   "cell_type": "code",
   "execution_count": 132,
   "metadata": {},
   "outputs": [
    {
     "data": {
      "text/plain": [
       "array([[1, 1, 2, 1, 1, 1, 1, 2, 1, 1, 2, 1, 1, 1, 1, 1, 1, 2, 1, 1, 1, 1,\n",
       "        1]])"
      ]
     },
     "execution_count": 132,
     "metadata": {},
     "output_type": "execute_result"
    }
   ],
   "source": [
    "count_vec([tweets[212]])"
   ]
  },
  {
   "cell_type": "markdown",
   "metadata": {},
   "source": [
    "## 2. Word embedding"
   ]
  },
  {
   "cell_type": "markdown",
   "metadata": {},
   "source": [
    "### 2.1 Making water corporus"
   ]
  },
  {
   "cell_type": "code",
   "execution_count": 133,
   "metadata": {},
   "outputs": [],
   "source": [
    "#!pip install ipynb"
   ]
  },
  {
   "cell_type": "code",
   "execution_count": 134,
   "metadata": {},
   "outputs": [],
   "source": [
    "from ipynb.fs.full.Water_nlp import clean_collection\n",
    "import os\n",
    "from nltk.corpus.reader.plaintext import PlaintextCorpusReader"
   ]
  },
  {
   "cell_type": "code",
   "execution_count": 135,
   "metadata": {},
   "outputs": [],
   "source": [
    "corpusdir = 'corpus/'\n",
    "if not os.path.isdir(corpusdir):\n",
    "    os.mkdir(corpusdir)"
   ]
  },
  {
   "cell_type": "code",
   "execution_count": 136,
   "metadata": {},
   "outputs": [],
   "source": [
    "# one file\n",
    "def make_data_from_tweets(tweets):\n",
    "    filename = 0\n",
    "    file = open(corpusdir+'data.txt','a')\n",
    "    for tw in tweets:\n",
    "        file.write(tw)\n",
    "        file.write('\\n')\n",
    "    file.close()"
   ]
  },
  {
   "cell_type": "code",
   "execution_count": 137,
   "metadata": {},
   "outputs": [],
   "source": [
    "# seperate files\n",
    "def make_text(data):\n",
    "    filename = 0\n",
    "    for text in data:\n",
    "        print(text)\n",
    "        filename+=1\n",
    "        file = open(corpusdir+str(filename)+'.txt','w')\n",
    "        file.write(text)#,encoding=\"UTF-8\")\n",
    "        file.close()"
   ]
  },
  {
   "cell_type": "code",
   "execution_count": 138,
   "metadata": {},
   "outputs": [],
   "source": [
    "data = clean_collection(tweets, lem=True)"
   ]
  },
  {
   "cell_type": "code",
   "execution_count": 139,
   "metadata": {},
   "outputs": [
    {
     "name": "stdout",
     "output_type": "stream",
     "text": [
      "les gouvernorats siliana kasserine jendouba souffrent coupures  eau potable\n",
      "perturbations coupures  approvisionnement eau potable les gouvernorats siliana kasserine jendouba\n",
      "lapprovisionnement eau potable reprendra nuit mardi mercredi\n",
      "perturbations coupures  approvisionnement eau potable quelques régions jendouba béja\n",
      "perturbations  approvisionnement eau potable quelques régions jendouba béjà\n",
      "reprise progressive\n",
      "tunisie perturbations coupures  approvisionnement eau potable jendouba béja\n",
      "tunisie tozeur sonede rassure qualité  eau potable\n",
      "gouvernants lhabitude prendre leau minérale pdt les populations quête leau potable les habitants dun village kenyan servi leau sale autorités lors dune réunion cela doit servir leçon tous centrafrique\n",
      "jendouba nord vol équipements sonede prive plusieurs régions leau potable\n",
      "vol équipements sonede prive plusieurs régions  eau potable\n",
      "reprise cette nuit  approvisionnement eau potable région radès\n",
      "selon communiqué sonede\n",
      "malgré retard réalisation\n",
      "ariana pertrubation distribution deau potable plusieurs région demain partir 21h\n",
      "pertrubation distribution  eau potable plusieurs région demain partir 21h\n",
      "tunisie perturbation lapprovisionnement eau potable plusieurs zones raoued\n",
      "perturbation coupure  approvisionnement eau potable enregistrées partir mardi 19 février 2019 21h délégation raoued tunis actualité\n",
      "a partir demain mardi 19 février 2019\n",
      "les travaux poursuivent assurer reprise  approvisionnement eau potable gafsa sonede\n",
      "distribution leau potable perturbations coupure raoued soir\n",
      "les travaux poursuivent assurer reprise  approvisionnement eau potable gafsa sonede\n",
      "a partir demain mardi 19 février 2019\n",
      "perturbation coupure  approvisionnement eau potable enregistrées partir mardi 19 février 2019 21h délégation raoued tunis actualité\n",
      "tunisie perturbation lapprovisionnement eau potable plusieurs zones raoued\n",
      "pertrubation distribution  eau potable plusieurs région demain partir 21h\n",
      "ariana pertrubation distribution deau potable plusieurs région demain partir 21h\n",
      "malgré retard réalisation\n",
      "selon communiqué sonede\n",
      "reprise cette nuit  approvisionnement eau potable région radès\n",
      "vol équipements sonede prive plusieurs régions  eau potable\n",
      "jendouba nord vol équipements sonede prive plusieurs régions leau potable\n",
      "gouvernants lhabitude prendre leau minérale pdt les populations quête leau potable les habitants dun village kenyan servi leau sale autorités lors dune réunion cela doit servir leçon tous centrafrique\n",
      "a fondouk jedid sitin arrêt pompe canal majerda desservant leau potable\n",
      " agit  projet  appui production  eau potable grandtunis capacité production 100 mille m3 jour 2ème projet porte outre station traitement eaux usées capacité production\n",
      "grand tunis  plus soucis  eau potable\n",
      "chef gouvernement youssef chahed inaugure deux importants projets ghedir el golla consacrés  eau potable\n",
      "chef gouvernement inaugure deux importants projets ghedir el golla consacrés  eau potable tunivisions via tunivisions\n",
      "rt odilon236 centrafrique manque deau potable les périphéries bangui devient problème plus épineux jamaisil faut\n",
      "perturbation distribution  eau potable zone inférieure utique ville\n",
      "utique perturbations coupures distribution deau potable rtci radio tunis chaîne internationale\n",
      "rt odilon236 centrafrique manque deau potable les périphéries bangui devient problème plus épineux jamais faut\n",
      "rt odilon236 centrafrique manque deau potable les périphéries bangui devient problème plus épineux jamais faut\n",
      "rt odilon236 centrafrique manque deau potable les périphéries bangui devient problème plus épineux jamais faut\n",
      "centrafrique manque deau potable les périphéries bangui devient problème plus épineux jamais faut trouver alternative sodeca parvient satisfaire besoin clients pitié mères denfants gouvcf rjdhrca\n",
      "samir taieb plan national mis place sécuriser approvisionnement eau potable durant  2019\n",
      "a fondouk jedid sitin arrêt pompe canal majerda desservant leau potable\n",
      "consommation leau potable secteur touristique 611 litres jour lit occupé telle douche froide sachant remplir baignoire faudrait 200 litres  eau plus source détails\n",
      "a fondouk jedid sitin arrêt pompe canal majerda desservant leau potable\n",
      " agit  projet  appui production  eau potable grandtunis capacité production 100 mille m3 jour 2ème projet porte outre station traitement eaux usées capacité production\n",
      "grand tunis  plus soucis  eau potable\n",
      "chef gouvernement youssef chahed inaugure deux importants projets ghedir el golla consacrés  eau potable\n",
      "chef gouvernement inaugure deux importants projets ghedir el golla consacrés  eau potable tunivisions via tunivisions\n",
      "rt odilon236 centrafrique manque deau potable les périphéries bangui devient problème plus épineux jamais faut\n",
      "perturbation distribution  eau potable zone inférieure utique ville\n",
      "utique perturbations coupures distribution deau potable rtci radio tunis chaîne internationale\n",
      "rt odilon236 centrafrique manque deau potable les périphéries bangui devient problème plus épineux jamais faut\n",
      "rt odilon236 centrafrique manque deau potable les périphéries bangui devient problème plus épineux jamais faut\n",
      "rt odilon236 centrafrique manque deau potable les périphéries bangui devient problème plus épineux jamais faut\n",
      "centrafrique manque deau potable les périphéries bangui devient problème plus épineux jamais faut trouver alternative sodeca parvient satisfaire besoin clients pitié mères denfants gouvcf rjdhrca\n",
      "samir taieb plan national mis place sécuriser approvisionnement eau potable durant  2019\n",
      "rt watchwatertn moyenne consommation leau potable secteur touristique 611 litres jour lit personne un\n",
      "moyenne consommation leau potable secteur touristique 611 litres jour lit personne chiffre donne froid dos sachant remplir baignoire faudrait 200\n",
      "ikrmch  pire peuple imagine  milliardaire peux développer  accès  eau potable plein pays préfères payer babtou   enfonce poisson les fesses\n",
      "        \n",
      "montant total près 108 millions dollars américains a alloué routes extérieures raccordements  eau potable  électricité gaz plus  usine traitement eaux usées tunisie projet investissement\n",
      "a  échelle national taux desserte eau potable constante augmentation depuis 20 ans aujourd  hui selon les chiffres\n",
      "a  échelle nationale taux desserte eau potable constante augmentation depuis 20 ans aujourd  hui selon les chiffres\n",
      "rt odilon236 cotedivoire traitement  eau potable bientôt usine 108 milliards fcfa abidjan abidja\n",
      "cotedivoire traitement  eau potable bientôt usine 108 milliards fcfa abidjan abidjantimes centrafrique\n",
      "près 300000 personnes travers tunisie vivent sans aucun accès leau potable elles obligées recueillir leau pluie les sources analyse chiffres dun accès inégal leau\n",
      "rt tunumerique tunisie  sonede annonce méga coupure  eau potable grand tunis\n",
      "sonede annonce coupures perturbations distribution  eau potable diverses régions tunis  ariana  prenez donc précautions dès soir\n",
      "sonede annonce coupures perturbations distribution  eau potable diverses régions tunis  ariana tunivisions via tunivisions\n",
      "tunisie  sonede annonce méga coupure  eau potable grand tunis\n",
      "tunis ariana perturbations distribution  eau potable\n",
      "perturbation distribution leau tunis lariana\n",
      "reprise progressive distribution deau potable grand tunis tunisie\n",
      "après 31 heures travail continu\n",
      "société nationale dexploitation distribution eaux sonede annonce fin travaux réparation canal principal distribution  eau potable tunis  ariana\n",
      "sonede annonce fin travaux réparation canal principal distribution  eau potable tunis  ariana tunivisions via tunivisions\n",
      "noahyannick pierrechrist bnpparibas fetelemur wearetennisfr bof ya tjrs deau potable a etoudi so what\n",
      "         \n",
      " eau potable nouveau disponible lorsque les réservoirs distribution nouveau remplis actualité tunis\n",
      "tunisie perturbation lapprovisionnement eau potable les cités ettadhamen ettahrir\n",
      "reprise assurée progressivement mercredi 20 mars 2019\n",
      "sonede a annoncé lundi coupure distribution  eau potable prévue mardi 19 mars 2019 partir 08h matin ville djebel el oust zaghouan tunisie\n",
      "coupure leau potable djebel el oust\n",
      "passage vote projet loi n122019 portant approbation convention prêt entre fonds saoudien développement tunisie financement projet  amélioration desserte eau potable milieu rural gouvernorat bizerte tnarp\n",
      "a lordre jour lexamen projet loi portant approbation convention prêt financement projet   amélioration desserte eau potable milieu rural gouvernorat bizerte \n",
      "capvert prix mètre cube deau fixé 0122 usd 7069 xaf ceci initiative féliciter car permet tous les ménages procurer eau potable quoi cameroun leau aussi cher mètre cube coûte 364 xaf water4all afp\n",
      "plus 800 millions  humains privés  eau potable les nations unies dressent tableau alarmant  accès  eau potable rapport 2019 2015 six humains dix disposaient toilettes équivalent\n",
      "plus deux milliards personnes sans eau potable monde constat alarmant lonu via franceinter\n",
      "cameroun environ 9 millions personnes  accès  eau potable lisez larticle complet cliquant lienjourneemondialedelea worldwaterday via jdcfr\n",
      "svq 21 milliards personnes vivent sans accès  eau potable chez cette journéemondialedeleau joignezvous canada  soutenez deleaupourtous faisons sorte personne laissé compte odd6\n",
      "aujourdhui journée internationale leau plus 2 milliards personnes nont accès leau potable surtout afrique leau cest 60 poids corps chacun a besoin 15 deaujour leau cest vie cest droit tous\n",
      "manque deau potable tue 3 fois plus denfants violence les pays conflit via rtbfinfo\n",
      "alerte pesticides leau potable ufcque choisir veut faire payer les agriculteurs dépollution\n",
      "unknownbotasky jyms95 paulinepaccard france24fr sûr quil sagit bien deau potable\n",
      "les travaux keur momar sarr réalisés 40\n",
      "rt bsiliadel admiratif regarde now conseil municipal tripoli tient conférence presse rassurer\n",
      "admiratif regarde now conseil municipal tripoli tient conférence presse rassurer les citoyens propos leurs besoins vitaux denrées alimentaires eau potable électricité santé pétrole etc bravo\n",
      "ministère  agriculture ressources hydrauliques pêche a annoncé mobilisation  enveloppe complémentaire 600 mille dinars cadre  programme\n",
      "                 \n",
      "rca leau potable devenue très inaccessible bangui\n",
      "douar hicher vol équipements pompage  eau potable\n",
      "rt odilon236 centrafrique gouvernement fait attention tant peu cri cœur peuple réclame leau potable co\n",
      "centrafrique gouvernement fait attention tant peu cri cœur peuple réclame leau potable construction forages cours les périphéries capitale bangui faut aussi penser villes lintérieur pays leauclavie gouvcf\n",
      "rt malllouka tunisie bloque routes augmente les prix viol enfants coupe internet ferme les stations se\n",
      "tunisie bloque routes augmente les prix viol enfants coupe internet ferme les stations services coupe leau potable pendant jours vie merde tunisie jetepleure\n",
      "egypte 1 milliard  investissements prévus  accès  eau potable  assainissement cours  exercice fiscal 20192020 ministre\n",
      "togo nouvelle plateforme numerique contrôle  accès  eau potable zone rurale civ225 afrique sofie\n",
      "afrique 320 millions personnes sans accès  eau potable\n",
      "eau potable bénin gestion équitable réduire les inégalités bénin24 télévision\n",
      "dotée dun jardin dune piscine extérieure dune vue mer residence amwej située chott meriem frontdemer\n",
      "partenariat va permettre spécialiste hautdébit basé eau  intégrer suitelogicielle les télécommunications nexignsystems  sein solutions réseau bout bout révolutionnaires télécom it business digitalhealth\n",
      "losouma wadeabou alydiabdiop attendant faut mettre gants tissu les mouiller frotter surface assiégée avant tenter denlever les résidus pareil aussi peux mettre jean lavabo rempli deau essayer les gants sunumbay\n",
      "marathon londres bulles  eau distribuées limiter les bouteilles plastiques\n",
      "afroopean pierrechrist jeanfrancis léglise catholique consacre chaque année travers différents démembrement milliards leau lassainissement léducation santé construction cette église mauvais procès quon fait a droit construire lieux culte aussi\n",
      "rt astesn weve astes cmozone vente installation location bombonnes deau famille astes consulting heureuse re\n",
      "cocaïne crevettes  eau douce campagne anglaise\n",
      "cocaïne crevettes deau douce campagne anglaise\n",
      "sacs plastique biodégradable toujours intacts après trois ans leau mer via rtbfinfo\n",
      "nantes leau loire rouge malakoff sans risque selon métropole via presseocean\n",
      "peau a plus plus besoin dhydratation peaux mature délicates sensibles fragiles voici bonheur leau rééquilibrante calmante adoucissante apaisante  disponible immédiatement\n",
      "phytolax laxatif puissant stimulant procure soulagement rapide  10 heures accélère transit suite action directe spécifique motilité gros intestin augmentation quantité  eau dernier\n",
      "récolte fleurs bigaradier nabeul lextraction communément appelé eau fleurs doranger sentez cette odeur envoûtante\n",
      "les vénézuéliens vivent souvent sans eau ni électricité beaucoup faim  autres persécutés opinion maduro respecte démocratie jlmelenchon plastronne continue les galéjades choquantes\n",
      "urhokage inspire expire bois leau\n",
      "urhokage jai toujours beaucoup bu deau jai jamais dacné ni rien askip cest ça\n",
      "urhokage boie beaucoup deau\n",
      "sait peau a plus plus besoin dhydratation peaux mature délicates sensibles fragiles voici bonheur leau rééquilibrante calmante adoucissante apaisante  sérum antiâge \n",
      "parti naturel destouriens évident connu reconnu ils nont qua adhérer honneur fierté mieux dapporter leau a moulin ingrat voué a léchec tunisie politique\n",
      "nadhemtunisie prix produit eau dinars tn aussi voir quel point arnaqué cest vol pillage organisé oligarchs encouragés laisserfaire gouvernemental\n",
      "rt acaweadvocate reportage mort 4 enfants recherche leau wolordé lextrême nord cameroun mesure con\n",
      "les embrouilles prix bouteille deau commencent 700 millimes 750 millimes frigo onestenavril\n",
      "rt picardpress sous  eau 16 degrés depuis demiheure demandes profite vie vingtaine mètres sous surfa\n",
      "myriamboujbel a sondage balhdia juste coupé letat les habitants déjà réclamé accès beaucoup arrêtés accusés les autorités locales vouloir donner leau terroristes\n",
      "rt 048935 candidat tunisien lalesco sest réveillé score 5 contre 15 candidat syndrome grenouille plongée d\n",
      "sous  eau 16 degrés depuis demiheure demandes profite vie vingtaine mètres sous surface là tranquille belle murène double mètre vient faire coucou tunisie alhaouaria plongée\n",
      "rt acaweadvocate reportage mort 4 enfants recherche leau wolordé lextrême nord cameroun mesure con\n",
      "rt odilon236 arcadiuspoutou vraiment pourtant pénurie deau encore dactualité centrafrique\n",
      "rt acaweadvocate reportage mort 4 enfants recherche leau wolordé lextrême nord cameroun mesure con\n",
      "weve astes cmozone vente installation location bombonnes deau famille astes consulting heureuse recevoir les eaux jaillissent\n",
      "rt acaweadvocate reportage mort 4 enfants recherche leau wolordé lextrême nord cameroun mesure con\n",
      "eau parfum so fever\n",
      "studio s2 pied leau meublé bien presenté climatisé\n",
      "leau a si bon goût derniers temps menfile deux litres facile\n",
      "rt acaweadvocate reportage mort 4 enfants recherche leau wolordé lextrême nord cameroun mesure con\n",
      "rt kolihongui hnjomini 237online preférez habiller costume alors gens nont deau boire\n",
      "bon bah dirait  a va tomber a  eau\n",
      "candidat tunisien lalesco sest réveillé score 5 contre 15 candidat syndrome grenouille plongée leau dune marmite bouillonnait petit feu inconsciente leffet lébullition brûlait\n",
      "rt acaweadvocate reportage mort 4 enfants recherche leau wolordé lextrême nord cameroun mesure con\n",
      "rt acaweadvocate reportage mort 4 enfants recherche leau wolordé lextrême nord cameroun mesure con\n",
      "arcadiuspoutou vraiment pourtant pénurie deau encore dactualité centrafrique\n",
      "villas àvendre chott meriem près port el kantaoui villas haut standing triplex jumelés situés 300 plage jardins aires jeux les enfants piscines\n",
      "duplexe vue mer casaimed propose offre rater duplex rêve compose dun rez chaussé contenant grand salon cuisine très bien équipée séchoir salle  eau 1 ére étage\n",
      "rt acaweadvocate reportage mort 4 enfants recherche leau wolordé lextrême nord cameroun mesure con\n",
      "rt acaweadvocate reportage mort 4 enfants recherche leau wolordé lextrême nord cameroun mesure con\n",
      "hnjomini 237online preférez habiller costume alors gens nont deau boire\n",
      "rt acaweadvocate reportage mort 4 enfants recherche leau wolordé lextrême nord cameroun mesure con\n",
      "les sels  epsom  histoire balbutiante magnésium   toutes dernières années les chercheurs découvert là où population absorbe magnésium  intermédiaire  eau filtrant travers des\n",
      "epsom  histoire balbutiante magnésium   toutes dernières années les chercheurs découvert là où population absorbe magnésium  intermédiaire  eau filtrant travers roches\n",
      "reportage mort 4 enfants recherche leau wolordé lextrême nord cameroun mesure concrète terrain jusquà présent droitàh2o eaupourtous mutationsonline\n",
      " sorti bouteille  eau  mis lit contre mur toujours prêt  gameofthrones\n",
      "parfum original homme femme eau parfum svp les sérieux sérieux merci tel 24070602\n",
      "terrain clôturé 250 m a vendre a dar allouch pieds leau\n",
      "comment les hauts dirigeants groupe canadien remplis les poches avant boîte prenne leaucest capitalisme daujourdhui hontela main chanceuse dirigeants bombardier jdm\n",
      "agence casa imed korba propose superbe appartement maamoura quelques plage compose  salon 3 chambres coucher cuisine bien équipée 2 terrasses 2 salles  eau nb chauffage centrale climatiseur\n",
      "cours 2018 moins 2111 millions litres  eau minérale vendus marché les différentes unités conditionnement évolution 307 rapport 2017\n",
      "sait peau a plus plus besoin dhydratation peaux mature délicates sensibles fragiles voici bonheur leau rééquilibrante calmante adoucissante apaisante  sérum antiâge \n",
      "rt lauraxsmgo si leau vénère veut tapper tout peut dire lorage\n",
      "attendez les plages libreville comme caraïbes  eau si filtrée wow\n",
      "casa imed chance  avoir étage villa cartier calme bons voisinages centreville korba compose dun salon trois chambres coucher cuisine salle  eau deux terrasses\n",
      "mini food truck coco  eau valette très mignon coco coconut foodtruck foodtrucks foodstagram foodtruckfood foodtruckdrinks drink coconutwater malta malta\n",
      "rt selim region monastir ftdes dénombre 63 unités délavage faut 55 litres  eau délaver jeans 70 cette\n",
      "rt selim region monastir ftdes dénombre 63 unités délavage faut 55 litres  eau délaver jeans 70 cette\n",
      "nizarus malheureusement meilleur gout veut dire meilleur qualité payé aussi cher leau si plus parfois impropre monde marche tête\n",
      "rt selim region monastir ftdes dénombre 63 unités délavage faut 55 litres  eau délaver jeans 70 cette\n",
      "rt selim region monastir ftdes dénombre 63 unités délavage faut 55 litres  eau délaver jeans 70 cette\n",
      "rt selim region monastir ftdes dénombre 63 unités délavage faut 55 litres  eau délaver jeans 70 cette\n",
      "rt selim region monastir ftdes dénombre 63 unités délavage faut 55 litres  eau délaver jeans 70 cette\n",
      "s2 pied leau a louer a kelibia\n",
      "eau parfum volare\n",
      "rt selim region monastir ftdes dénombre 63 unités délavage faut 55 litres  eau délaver jeans 70 cette\n",
      "plaidoyer création dune autorité nationale  eau lenvironnement leaders news tunisie actualités\n",
      "rt fatales1 parfum jour eau lacoste femme lacoste\n",
      "rt selim region monastir ftdes dénombre 63 unités délavage faut 55 litres  eau délaver jeans 70 cette\n",
      "rt selim region monastir ftdes dénombre 63 unités délavage faut 55 litres  eau délaver jeans 70 cette\n",
      "azizkone3 si laisse  eau vais mourir\n",
      "rt selim region monastir ftdes dénombre 63 unités délavage faut 55 litres  eau délaver jeans 70 cette\n",
      "rt selim region monastir ftdes dénombre 63 unités délavage faut 55 litres  eau délaver jeans 70 cette\n",
      "rt selim ftdes a analysé  eau baie 12  oxygène quand norme 85\n",
      "rt selim region monastir ftdes dénombre 63 unités délavage faut 55 litres  eau délaver jeans 70 cette\n",
      "rt selim region monastir ftdes dénombre 63 unités délavage faut 55 litres  eau délaver jeans 70 cette\n",
      "rt selim region monastir ftdes dénombre 63 unités délavage faut 55 litres  eau délaver jeans 70 cette\n",
      "superbe lotissement viabilisé situé korba quartier calme entouré villas alimenté eau électricité onass gaz ville\n",
      "rt selim region monastir ftdes dénombre 63 unités délavage faut 55 litres  eau délaver jeans 70 cette\n",
      "rt selim region monastir ftdes dénombre 63 unités délavage faut 55 litres  eau délaver jeans 70 cette\n",
      "rt selim ftdes a analysé  eau baie 12  oxygène quand norme 85\n",
      "rt selim region monastir ftdes dénombre 63 unités délavage faut 55 litres  eau délaver jeans 70 cette\n",
      "ftdes a analysé  eau baie 12  oxygène quand norme 85\n",
      "rt selim region monastir ftdes dénombre 63 unités délavage faut 55 litres  eau délaver jeans 70 cette\n",
      "region monastir ftdes dénombre 63 unités délavage faut 55 litres  eau délaver jeans 70 cette eau provient forages donc pompent directement nappes phréatiques reculent moyenne 5 mètres an\n",
      "villa pieds leau\n",
      "zskybuu disdidou merci zskybuu davoir nager a travers méditerrannée vers malte quand tas vu commençais noyer cet aérodinamysme capillaire rends beaucoup plus rapides leau\n",
      "dr raoudha gafrej situation barrages nettement meilleure les problèmes  alimentation eau persisteraient \n",
      "rt odilon236 qd apporte changement tête dun département cest pr améliorer davantage les conditions vie citoyens r\n",
      "pouvoir manger pendant ftour faut tout simplement manger chorba boire leau sinon vas être calé vite fais\n",
      "belle villa pied leau haute standing piscine jardin trouvent hammamet nord zone touristique a superficie terrain 450 m superficie couverte 300m gtvenez ici découvrir plus \n",
      "demain étudiants  institut national beauxarts tétouan monteront recherches travaux menés  oasis tighmert pendant 5ème édition autour nomadisme  astronomie  architecture terre  eau tighmert guelmim maroc\n",
      "villa vendre nabeul résidence gardée pied  eau  gtvenez ici découvrir plus \n",
      "profitez offre terrain sise  elhaouria 300m 21000dt terrain 800m plage titre bleu  leau électricité disponible pour plus dinformations contacteznous 28 574 515\n",
      "dr raoudha gafrej situation chronique pénurie  eau transforme crise environnementale entrave développement socioéconomique \n",
      "rt opentunisia opendata peut passer logiciellibre  bien commun peut dire   eau robinet face  \n",
      "rt opentunisia opendata peut passer logiciellibre  bien commun peut dire   eau robinet face  \n",
      "opendata peut passer logiciellibre  bien commun peut dire   eau robinet face  eau bouteille choix libre autant question droit liberté  égalité fraternité\n",
      "opendata peut passer logiciellibre  bien commun peut dire   eau robinet face  eau bouteille choix libre autant question droit liberté  égalité fraternité\n",
      "opendata peut passer logiciellibre  bien commun peut dire   eau robinet face  eau bouteille choix libre autant question droit liberté  égalité fraternité\n",
      "sait désormais durant saison hivernale peau a plus plus besoin dêtre hydratée peaux mature délicates sensibles amp fragiles voici bonheur  leau rééquilibrante calmante\n",
      "peau a plus plus besoin dhydratation peaux mature délicates sensibles fragiles voici bonheur leau rééquilibrante calmante adoucissante apaisante  disponible immédiatement\n",
      "belle maison s3pied leau louer\n",
      "les traiter comme bétail bombarder les survivants les privés deau délectricité soins médicaments travail les sionistes ensuite malhonnêteté dire quils attaqués lorsquun palestinien tenté défendre\n",
      "lemt6 jujulesanggg egonthepak myousss brolyxviii  eau  mieux\n",
      "peau a plus plus besoin dhydratation peaux mature délicates sensibles fragiles voici bonheur leau rééquilibrante calmante adoucissante apaisante  disponible immédiatement\n",
      "agence casa imed korba propose superbe appartement maamoura quelques plage compose  salon 3 chambres coucher cuisine bien équipée 2 terrasses 2 salles  eau nb chauffage centrale climatiseur\n",
      "rt gagadelrih faut seulement 6l deau dun coup mourir 4bouteilles deau tout\n",
      "peau a plus plus besoin dhydratation peaux mature délicates sensibles fragiles voici bonheur leau rééquilibrante calmante adoucissante apaisante  disponible immédiatement\n",
      "mmslmn oumshamil sabougepaaas deux adorations différentes donc exemple tombe leau lenfant apprend marcher avant courir apprend compter jusquà 10 avant marcher apprend marcher avant dapprendre parler\n",
      "epsom  histoire balbutiante magnésium   toutes dernières années les chercheurs découvert là où population absorbe magnésium  intermédiaire  eau filtrant travers roches\n",
      "leau revenue\n",
      "rt tounsinhoo crk met quelques goûtes  eau javel les yeux tour joué remercie\n",
      "peau a plus plus besoin dhydratation peaux mature délicates sensibles fragiles voici bonheur leau rééquilibrante calmante adoucissante apaisante  disponible immédiatement\n",
      "crk met quelques goûtes  eau javel les yeux tour joué remercie\n",
      "rt gagadelrih faut seulement 6l deau dun coup mourir 4bouteilles deau tout\n",
      "nizarhanini beinsportsfr ni feu ni eau léspérance champion dafrique 2019\n",
      "rt sansurl marre mangoisser les trucs comme essence lait eau oeufs parceque franchement vis deja sans lait ni oeufs res\n",
      "phytodigest sirop aide retenir  eau  intérieur  intestin augmente teneur selles eau niveau gros intestin plus forme gel facilite transit niveau  estomac  intestin grêle\n",
      "quand bain essayez plonger oreilles gardant visage hors leau prouvez entendre coeur pomper sang flippant\n",
      "epsom  histoire balbutiante magnésium   toutes dernières années les chercheurs découvert là où population absorbe magnésium  intermédiaire  eau filtrant travers roches\n",
      "peau a plus plus besoin dhydratation peaux mature délicates sensibles fragiles voici bonheur leau rééquilibrante calmante adoucissante apaisante  disponible immédiatement\n",
      "parce vérité dune personne blanc autre noir tout les deux raison euxmêmes parce femme aiment toutes  découvrez leau\n",
      "sait peau a plus plus besoin dhydratation peaux mature délicates sensibles fragiles voici bonheur leau rééquilibrante calmante adoucissante apaisante  sérum antiâge \n",
      "sait désormais durant saison hivernale peau a plus plus besoin dêtre hydratée peaux mature délicates sensibles amp fragiles voici bonheur  leau rééquilibrante calmante\n",
      "marre mangoisser les trucs comme essence lait eau oeufs parceque franchement vis deja sans lait ni oeufs reste mhabituer boire leau sonede aller travailler vélo suède\n",
      "rt flehetna dr raoudha gafrej situation chronique pénurie  eau transforme crise environnementale entrave dévelop\n",
      "leau feu lordalie a toujours tenté curiosité depuis mésopotamie plus délicieuse cest celle pain fromage surtout sil sagit pain complet fromage chèvre filet dhuile dolive chez donnerai volontier lol\n",
      "agence casa imed korba propose merveilleuse maison arabe korba compose dun salon chambre salle deau kitchenette terrasse\n",
      "dr raoudha gafrej situation chronique pénurie  eau transforme crise environnementale entrave développement socioéconomique \n",
      "tunisie nabeul ventesimmobilieres appartementmilapieddansleauhammametnord\n",
      "peau a plus plus besoin dhydratation peaux mature délicates sensibles fragiles voici bonheur leau rééquilibrante calmante adoucissante apaisante  disponible immédiatement\n",
      "volume investissements bad tunisie a atteint 14 milliard dollars près 42 milliards dinars divers domaines tels  énergie transport les télécommunications  eau technologie\n",
      "phytodigest gélules aide retenir  eau  intérieur  intestin augmente teneur selles eau niveau gros intestin plus forme gel facilite transit niveau  estomac  intestin grêle\n",
      "myiifeisrosy wtf mettre vodka 1bouteille deau\n",
      "alimentée déchets végétaux conteneur capable transformer lhumidité lair eau potable fabrique 2000 litres deau jour remarquable\n",
      "waterlesstripoli tripoli sans eau potable lna coupe ezu tripoli\n",
      "aspirant lair chaud conteneur produit 2000 litres deau potable jour vidéo\n",
      "ridha chalghoum promet mobilisation financements faveur projets deau potable bloqués sfax\n",
      "coupure leau potable les gouvernorats manouba béja via espacemanager\n",
      "rapporter leau potable famille femmes indiennes risquent vie chaque jour descendant rappel puits 18 mètres profondeur inde 75 foyers nont accès leau potable india humanright to water\n",
      "rt f7hmayda alshababvisca         \n",
      "alshababvisca         \n",
      "    \n",
      "tunisie perturbations coupures leau potable cités ettadhamen douar hicher reprise prévue soir selon sonede\n",
      "jendouba 70 projets  approvisionnement zones rurales eau potable entamés 2019\n",
      "hamdullah peut sen réjouir\n",
      "puis jour ramadan 14h 27  a  ombre  a sonede programme a mourouj coupure  eau potable laissant comme toujours seul face destin sans préavis ni rien tout tunisie\n",
      "yochofficial si vs pouvez répondre projet dessalement mahdia basé 100d énergie renouvelable produire eau potable population 500000 habitants ds liste attente gouvernement depuis 2016plutôt ds liste blocage\n",
      "perturbations coupures distribution  eau potable menzel bouzayane\n",
      "tunisie perturbations distribution deau potable menzel bouzayane\n",
      "rt alisnoussi1 yochofficial si vs pouvez répondre projet dessalement mahdia basé 100d énergie renouvelable p\n",
      "afrique subsaharienne seulement 24 population a accès source sûre  eau potable les installations sanitaires base non partagées  autres foyers réservées 28 population  accès  eau lassainissement droithumain\n",
      "rt acaweadvocate  accès  eau potable  assainissement reconnu comme droit  homme depuis 2010 près 35 milli\n",
      "rt acaweadvocate  accès  eau potable  assainissement reconnu comme droit  homme depuis 2010 près 35 milli\n",
      "rt acaweadvocate  accès  eau potable  assainissement reconnu comme droit  homme depuis 2010 près 35 milli\n",
      "rt acaweadvocate  accès  eau potable  assainissement reconnu comme droit  homme depuis 2010 près 35 milli\n",
      " accès  eau potable  assainissement reconnu comme droit  homme depuis 2010 près 35 milliards  êtres humains  encore aujourd  hui  autre choix boire eau dangereuse santé 24 milliards disposent tjrs toilettes\n",
      "reprise  approvisionnement eau potable sud tunisien\n",
      "sonede ben arous zaghouan sans eau potable\n",
      "tunisie perturbations coupures deau potable zones tunis\n",
      "fourniture  eau potable affermage  etat béninois sonde investisseurs régionaux bénin nouvelle tribune lntribune\n",
      "gafsa citoyens réclament  accès  eau potable photos\n",
      "rétablissement  approvisionnement eau potable régions\n",
      "mbalsam raniatn                               \n",
      "tabarka perturbations  approvisionnement eau potable\n",
      "                     22  2019    sp4           \n",
      "kairouan pleine canicule habitants sans électricité ni eau potable via webdotn tunisie\n",
      "eltunisianooo daronne taf a zarkoun parle daron aidémaçon priestu les gosses gafsa   eau potable chauffe les gens zahh weld el kahba\n",
      "rt tunumerique tunisie  gafsa sabotage conduite  eau potable destinée moulares\n",
      "tunisie  gafsa sabotage conduite  eau potable destinée moulares\n",
      "                6                     \n",
      "alnassarkw                               \n",
      "         \n",
      "finalement jour faste les abechois forum tchadmonde arabe commissionne projet daccession leau potable pénurie prendra fin inchallah\n",
      "        \n",
      "     \n",
      "coupure deau potable attendue délégation soukra\n",
      "tunisie perturbations coupures deau potable délégation soukra\n",
      "les vrais accros surtout village quand rallies lr assemblée pr avoir verre ils vont demander dire phrase valeuravec sagesse afin juger digne lavoir ils partagent ceux prennent comme leausacré coutume jadore çà\n",
      "badciss fourmimagnan poisson vit leau\n",
      "mosquée village a nouvelle mosquée village a couté plus deux milliards a celui construite village manque deau école sécroule a tellement dordures\n",
      "soukra perturbation coupure distribution  eau\n",
      "helptwitter faire sauver petit chaton apparemment abandonné mère moment naissance trouvé sous soleil je peux donner lait  eau\n",
      "fatina2019 ici deau citerne coute 800 autre les animaux 1600 tous les 3 jours vais demenager alger ca fera economies\n",
      "ecomag décodeléco naoufel khelifi directeur circulation stationnement municipalité tunis lécointernationale inde pénurie deau france antisionisme anisémitisme débat contiue\n",
      "coupure deau courante attendue soukra\n",
      "ecomag belko    décodeléco naoufel khelifi directeur circulation stationnement municipalité tunis lécointernationale inde pénurie deau france antisionisme anisémitisme débat contiue léchodesmédias \n",
      "référence 508 duplex meublé location longuedurée compose rdc dune suite indépendante composée dune chambre climatisée dressing salle deau séjour coin\n",
      "iphoneaddictfr les airpods résistent plutôt bien  eau alors  ils  certificationhhhh apple\n",
      "malgré toute leau douce ciel verse mer reste salé alors épuisez certains changent peu importe demandez\n",
      "orkyyde non clair comme leau roche pendant majorité algériens battent patrie afin libérer régime pourri tentacules majorité kabyles battent dechra\n",
      "hergla coupure deau hergla\n",
      "nhulot planète doit avoir commandant bord qualité air eau température pression bonne conduite passages parceque ya aucune station service ravitailler stages relève\n",
      "rt fatymdiallo  hypotension orthostatique cause plus fréquente chez les jeunes  déshydratation faut boire beaucoup  \n",
      "azy  temps ventilateur bouteille  eau fraiche\n",
      "rt mayahach sfax a sidi mansour leau mer tourne rouge via webdotn\n",
      "rt fatymdiallo  hypotension orthostatique cause plus fréquente chez les jeunes  déshydratation faut boire beaucoup  \n",
      "rt mayahach sfax a sidi mansour leau mer tourne rouge via webdotn\n",
      "rt fatymdiallo  hypotension orthostatique cause plus fréquente chez les jeunes  déshydratation faut boire beaucoup  \n",
      "rt fatymdiallo  hypotension orthostatique cause plus fréquente chez les jeunes  déshydratation faut boire beaucoup  \n",
      "rt fatymdiallo  hypotension orthostatique cause plus fréquente chez les jeunes  déshydratation faut boire beaucoup  \n",
      "rt fatymdiallo  hypotension orthostatique cause plus fréquente chez les jeunes  déshydratation faut boire beaucoup  \n",
      "rt fatymdiallo  hypotension orthostatique cause plus fréquente chez les jeunes  déshydratation faut boire beaucoup  \n",
      "sfax a sidi mansour leau mer tourne rouge via webdotn\n",
      "rt fatymdiallo  hypotension orthostatique cause plus fréquente chez les jeunes  déshydratation faut boire beaucoup  \n",
      "crois met plus pied leau\n",
      "rt fatymdiallo  hypotension orthostatique cause plus fréquente chez les jeunes  déshydratation faut boire beaucoup  \n",
      "rt fatymdiallo  hypotension orthostatique cause plus fréquente chez les jeunes  déshydratation faut boire beaucoup  \n",
      "rt fatymdiallo  hypotension orthostatique cause plus fréquente chez les jeunes  déshydratation faut boire beaucoup  \n",
      "leau mer ça fait trop belles boucles\n",
      "rt fatymdiallo  hypotension orthostatique cause plus fréquente chez les jeunes  déshydratation faut boire beaucoup  \n",
      "rt fatymdiallo  hypotension orthostatique cause plus fréquente chez les jeunes  déshydratation faut boire beaucoup  \n",
      "rt fatymdiallo  hypotension orthostatique cause plus fréquente chez les jeunes  déshydratation faut boire beaucoup  \n",
      "rt fatymdiallo  hypotension orthostatique cause plus fréquente chez les jeunes  déshydratation faut boire beaucoup  \n",
      "rt fatymdiallo  hypotension orthostatique cause plus fréquente chez les jeunes  déshydratation faut boire beaucoup  \n",
      "rt fatymdiallo  hypotension orthostatique cause plus fréquente chez les jeunes  déshydratation faut boire beaucoup  \n",
      "jespère vas bien mange bien bois beaucoup deau heiii mentends vher ten fait kai là dieu protège tokyungsoowithlove  nothing to do but wait for kyungsoo\n",
      "houdamaitre vie comme rivière jour boue souvent eau claire\n",
      "rt fatymdiallo  hypotension orthostatique cause plus fréquente chez les jeunes  déshydratation faut boire beaucoup  \n",
      "rt fatymdiallo  hypotension orthostatique cause plus fréquente chez les jeunes  déshydratation faut boire beaucoup  \n",
      "rt fatymdiallo  hypotension orthostatique cause plus fréquente chez les jeunes  déshydratation faut boire beaucoup  \n",
      "rt fatymdiallo  hypotension orthostatique cause plus fréquente chez les jeunes  déshydratation faut boire beaucoup  \n",
      "rt fatymdiallo  hypotension orthostatique cause plus fréquente chez les jeunes  déshydratation faut boire beaucoup  \n",
      "sfax a sidi mansour leau mer tourne rouge\n",
      "rt fatymdiallo  hypotension orthostatique cause plus fréquente chez les jeunes  déshydratation faut boire beaucoup  \n",
      "rt fatymdiallo  hypotension orthostatique cause plus fréquente chez les jeunes  déshydratation faut boire beaucoup  \n",
      "rt fatymdiallo  hypotension orthostatique cause plus fréquente chez les jeunes  déshydratation faut boire beaucoup  \n",
      "rt fatymdiallo  hypotension orthostatique cause plus fréquente chez les jeunes  déshydratation faut boire beaucoup  \n",
      "rt fatymdiallo  hypotension orthostatique cause plus fréquente chez les jeunes  déshydratation faut boire beaucoup  \n",
      "sfax a sidi mansour leau mer tourne rouge via webdotn\n",
      "rt fatymdiallo  hypotension orthostatique cause plus fréquente chez les jeunes  déshydratation faut boire beaucoup  \n",
      "rt fatymdiallo  hypotension orthostatique cause plus fréquente chez les jeunes  déshydratation faut boire beaucoup  \n",
      "brisigsauer anasnoaman78 leau grise bordel préfère crever chaud\n",
      "rt fatymdiallo  hypotension orthostatique cause plus fréquente chez les jeunes  déshydratation faut boire beaucoup  \n",
      "rt fatymdiallo  hypotension orthostatique cause plus fréquente chez les jeunes  déshydratation faut boire beaucoup  \n",
      "plage sidi mansour changement couleur  eau expliqué\n",
      "plage sidi mansour changement couleur  eau expliqué\n",
      "rt fatymdiallo  hypotension orthostatique cause plus fréquente chez les jeunes  déshydratation faut boire beaucoup  \n",
      "rt fatymdiallo  hypotension orthostatique cause plus fréquente chez les jeunes  déshydratation faut boire beaucoup  \n",
      "rt fatymdiallo  hypotension orthostatique cause plus fréquente chez les jeunes  déshydratation faut boire beaucoup  \n",
      "anasnoaman78 jamais mettrai les pieds bordel comme ça ça doit pisser leau sans soucier autres\n",
      "ahlammostghanmi el menia ex el goléa situe 280 kms sud ghardaia sr route transaharienneregorge do douce fo goûter fruits eau minérale nat el goléarégion touristik tr prisée pr constantine vais chak x pr visiter aussi tam où timimoun\n",
      "rt fatymdiallo  hypotension orthostatique cause plus fréquente chez les jeunes  déshydratation faut boire beaucoup  \n",
      "rt fatymdiallo  hypotension orthostatique cause plus fréquente chez les jeunes  déshydratation faut boire beaucoup  \n",
      "tounesu laltération couleur leau probablement prolifération dalgueselle causée pollutionorganiqueet chaleur fait quempirer les choses surtout basse profondeurun enlèvement algues envahissantes urgent puisquelle empêchent 1\n",
      "rt fatymdiallo  hypotension orthostatique cause plus fréquente chez les jeunes  déshydratation faut boire beaucoup  \n",
      "rt fatymdiallo  hypotension orthostatique cause plus fréquente chez les jeunes  déshydratation faut boire beaucoup  \n",
      "rt fatymdiallo  hypotension orthostatique cause plus fréquente chez les jeunes  déshydratation faut boire beaucoup  \n",
      "cdd agent usine eau potable assainissement hf chateadun 28 veolia châteaudun 28 emploichateaudun emploi chateaudun\n",
      "tunisie  bouhajla reprise distribution  eau potable partir demain\n",
      "tunisie  kebili camions citernes ravitailler les habitants eau potable\n",
      "gabès perturbation coupure  eau potable régions\n",
      "comment les conduites  eau jelma sauvagement sabotées réparées sous 24 heures vidéo photos tunisie sfax eau leaderstunisie\n",
      "gafsa coupure  approvisionnement eau potable\n",
      "rt leaderstunisie comment les conduites  eau jelma sauvagement sabotées réparées sous 24 heures vidéo photos \n",
      "rt leaderstunisie comment les conduites  eau jelma sauvagement sabotées réparées sous 24 heures vidéo photos \n",
      "comment les conduites  eau jelma sauvagement sabotées réparées sous 24 heures vidéo photos leaderstunisie\n",
      "rt webdotn sans eau potable les habitants jelma protestent bloquent route via webdotn tunisie\n",
      "sans eau potable les habitants jelma protestent bloquent route via webdotn tunisie\n",
      "cdd agent usine eau potable assainissement hf chateadun 28 veolia châteaudun 28 emploichateaudun emploi chateaudun\n",
      "fxtouz ysmnmsd bz mère tweet  attention whore attrape mec  eau lcerveau ça svoit\n",
      "hajerbj nadhemtunisie festivalmanarat laisser les déchets les plages pire choses faire cest proximité leau moindre brise moindre coup vent tout finira mer\n",
      "sous seuil porte extérieure domicile familial rbat sfax doit nicher immense nappe phréatique cause liée nombre très élevé seaux plein deau versait mère allah\n",
      "cosy water detox besoin fraîcheur légèreté misez cosy water detox a base deau minérale galcé fruits saison découpé quartiers éliminant les toxines hydratant corps et\n",
      "hajerbj nadhemtunisie bravo hajer jai assisté a qqes projections film a manarat marsa les gens jeunes moins jeunes laissaient bouteilles deau boissons les fameux chips derrière trouvait lobligation ramasser leurs merdes\n",
      "doumlee jackite1denie bouramadeni walesag doum faut mettre leau bachi \n",
      "hajerbj medzepplin plage nabeul incroyable nombre sacs plastique leau vu les inondations septembre comble çà gêne personne part quelques jeunes mis ramasser les ordures sous regard étonné moins jeunes\n",
      "tunisie  bouhajla reprise distribution  eau potable partir demain\n",
      "rt webdotn kram fathi layouni inspecte leau mer via webdotn tunisie\n",
      "kram fathi layouni inspecte leau mer via webdotn tunisie\n",
      " bu peu trop  eau mer\n",
      " a  eau cerveau  évidence pendant temps tous les pays maghreb vont sortir can\n",
      "gestion eaux usées reste problème crucial village historique étages cheninitataouine  introduction  eau courante profit citoyens les grottes chenini les services\n",
      "cartes hors ligne points  eau budget neuf applis voyager malin\n",
      "cocacola désastre plastique pillage  eau iboycottcocacola via iboycottorg\n",
      "tamazghaunited aissinath medikorii con parles saleté gueule a propos langue saint coran plus minable quun vagin dune pute kabyle forcé bite française résultat fils pute comme penses a laver bouche leau javel avant parler larabe\n",
      "tunisie  kebili camions citernes ravitailler les habitants eau potable\n",
      "tunisie  raison changement couleur  eau mer carthage\n",
      "jure wsh  droit rien manger entre les repas boisson  eau brf préparez septembre vais avoir corps ouf\n",
      "régions sans eau ni électricité sous canicule \n",
      "régions sans eau ni électricité sous canicule\n",
      "tunisie 60 canaux deau usés via webdotn\n",
      "rt moezbhar raniaeq ramassistance rammaroc ils salissent limage tout paysun royaume ils balancent leau comme vi\n",
      "raniaeq ramassistance rammaroc ils salissent limage tout paysun royaume ils balancent leau comme vieilles chaussettes travail fatidique milliers marocains poussent maroc vers haut non ils dégradent tout ça taurais vu limpunité ceux call center vomir\n",
      "rt tymethy free legmi distribué gratuitement domicile instantanément sonede après coupure deau matin sousse ht\n",
      "rt tymethy free legmi distribué gratuitement domicile instantanément sonede après coupure deau matin sousse ht\n",
      "comment savoir si electrovanne eau bonne via youtube\n",
      "tunisie sonede annonce coupure deau zaghouan\n",
      "rt tymethy free legmi distribué gratuitement domicile instantanément sonede après coupure deau matin sousse ht\n",
      "free legmi distribué gratuitement domicile instantanément sonede après coupure deau matin sousse\n",
      "svsensual ptdrrrr  pris pshit pshit remplis  eau jlui mit dessus quand jlai vu sortir zigounette ça chez omg\n",
      "sonede coupure deau zaghouan\n",
      "filtre eau pluie gratuit via youtube\n",
      "26 100 autonome eau grâce pluie 13 via youtube\n",
      "base benin ils font can juste gratter leau lhôtel les vacances égypte\n",
      "rt bmleila hajerbj mayahach commune carthage déconseille baignade attendant résultats analyse eau rien a signaler côté lamars\n",
      "jai déverrouillé succès puissance leau paradise island 2 paradiseisland2 gameinsight\n",
      "rt bmleila hajerbj mayahach commune carthage déconseille baignade attendant résultats analyse eau rien a signaler côté lamars\n",
      "gabès perturbation coupure  eau potable régions\n",
      "hajerbj mayahach commune carthage déconseille baignade attendant résultats analyse eau rien a signaler côté lamarsa moment\n",
      "lalique by lalique for women eau parfum 100 ml edp ovp  profumi profumo\n",
      "raob  engage 9eme forum mondial  eau les membres réseau africain organismes bassin décidé prendre part active prochain forum mondial  eau dakar 2021 côtes  omvs nommé partenaire stratégique thème coopération\n",
      "rt azzdean aures oran 1000 bornes bravo a toutes les personnes depose les parcours millions litre deau zlabiya\n",
      "perturbation coupure leau zones gabès via espacemanager\n",
      "mettez grenouille récipient rempli deau commencez chauffer leau lorsque température leau commence monter grenouille ajuste température corporelle conséquence grenouille\n",
      "biladi ouhibouki joie fête chaque parcelle terre chaque atome air chaque rose jardins chaque graine sable déserts chaque chaque goutte deau rivières\n",
      "aures oran 1000 bornes bravo a toutes les personnes depose les parcours millions litre deau zlabiya makrout ect a tous papy mamy jettent leau les marcheurs haut leurs fenetres balcons\n",
      "mimouna eau fleur doranger home made jen met tête les épaules torse ça appaise ça sent bon\n",
      "comment les conduites  eau jelma sauvagement sabotées réparées sous 24 heures vidéo photos tunisie sfax eau leaderstunisie\n",
      "cnews les traînées blanches causées vapeur  eau dégagée les réacteurs lors combustion kérosène autrement appelé  condensation  incroyable  estce quand  article  les fumées blanches centrales nucléaires quelle ignorance\n",
      "normal humain\n",
      "gafsa coupure  approvisionnement eau courante\n",
      "video face sécheresse inde femmes obligées risquer vie puiser  eau via franceinfo\n",
      "comment les conduites  eau jelma sauvagement sabotées répa via youtube\n",
      "gafsa coupure  approvisionnement eau courante\n",
      "gafsa coupure  approvisionnement eau potable\n",
      "rt leaderstunisie comment les conduites  eau jelma sauvagement sabotées réparées sous 24 heures vidéo photos \n",
      "rt leaderstunisie comment les conduites  eau jelma sauvagement sabotées réparées sous 24 heures vidéo photos \n",
      "comment les conduites  eau jelma sauvagement sabotées réparées sous 24 heures vidéo photos leaderstunisie\n"
     ]
    },
    {
     "name": "stdout",
     "output_type": "stream",
     "text": [
      "capitale tunisienne abrite 7e assemblée générale réseau africain organismes bassin raob démarre mardi poursuivre jusquau 5 juillet sous signe réalisation vision africaine leau lhorizon 2025 amcowafrica oieau\n",
      "quand linconscience mêle bêtise humaine\n",
      "sidi bouzid plus 10 délégations sans eau après vandalisation conduites via webdotn tunisie\n",
      "rt amina sœur compte les marques deau minérales tunisie jannet safia marwa ain oktor garci sabrine fourat\n",
      "amina faut faire différence entre eau minérale naturelle eau source naturelle autres eau table eau plate\n",
      "justryzeh processeur goutte deau\n",
      "jy vais 6h leau froide a moins gens personne pisser côté cest propre commence bien journée\n",
      "canicule si chacun met assiette balcon leau cela peut sauver milliers danimaux\n",
      "eau paradisiaque beachgirl beachlife\n",
      "pire  a a osé dire ah dégueu essuyés  eau culot\n",
      "rt amina sœur compte les marques deau minérales tunisie jannet safia marwa ain oktor garci sabrine fourat\n",
      "homersimpsm visite tunisie demande leau propose safia sabrine marwa dit nsawin mba3d tawa nebghi may\n",
      "amina leau robinet brita\n",
      "rt amina sœur compte les marques deau minérales tunisie jannet safia marwa ain oktor garci sabrine fourat\n",
      "coupure lapprovisionnement eau ben guerdane\n",
      "rt amina sœur compte les marques deau minérales tunisie jannet safia marwa ain oktor garci sabrine fourat\n",
      "rt amina sœur compte les marques deau minérales tunisie jannet safia marwa ain oktor garci sabrine fourat\n",
      "sœur compte les marques deau minérales tunisie jannet safia marwa ain oktor garci sabrine fourat hayet aqualine cristalline bargou élixir mira pristine royale tijene dima cristal jektiss melliti mélina si connaissez dites\n",
      "jen leau bouche\n",
      "comme si lune reflétait leau fantastiques cristaux gris facettes ressortent étincelles magiques leurs surfaces aqueuses\n",
      "rt webdotn sans eau potable les habitants jelma protestent bloquent route via webdotn tunisie\n",
      "sortie acheter leau voilà rentré sans leau les clintonneries \n",
      "sans eau potable les habitants jelma protestent bloquent route via webdotn tunisie\n",
      "nabilinsky fatylife lait pur coupe leau jaune doeuf peu crème\n",
      "les eau nient possession armes trouvées libye\n"
     ]
    }
   ],
   "source": [
    "make_text(data)"
   ]
  },
  {
   "cell_type": "code",
   "execution_count": 140,
   "metadata": {},
   "outputs": [],
   "source": [
    "newcorpus = PlaintextCorpusReader(corpusdir, '.*')"
   ]
  },
  {
   "cell_type": "code",
   "execution_count": 141,
   "metadata": {},
   "outputs": [
    {
     "data": {
      "text/plain": [
       "['gafsa', 'coupure', 'approvisionnement', 'eau', ...]"
      ]
     },
     "execution_count": 141,
     "metadata": {},
     "output_type": "execute_result"
    }
   ],
   "source": [
    "# cccess the plaintext; outputs pure string/basestring.\n",
    "#newcorpus.raw().strip()\n",
    "\n",
    "# Access paragraphs in the corpus. (list of list of list of strings)\n",
    "# NOTE: NLTK automatically calls nltk.tokenize.sent_tokenize and \n",
    "#       nltk.tokenize.word_tokenize.\n",
    "#\n",
    "# Each element in the outermost list is a paragraph, and\n",
    "# Each paragraph contains sentence(s), and\n",
    "# Each sentence contains token(s)\n",
    "#newcorpus.paras()\n",
    "#newcorpus.paras(newcorpus.fileids()[43])\n",
    "\n",
    "# Access sentences in the corpus. (list of list of strings)\n",
    "# NOTE: That the texts are flattened into sentences that contains tokens.\n",
    "#newcorpus.sents()\n",
    "#newcorpus.sents(newcorpus.fileids()[103])\n",
    "\n",
    "# Access just tokens/words in the corpus. (list of strings)\n",
    "#newcorpus.words()\n",
    "newcorpus.words(newcorpus.fileids()[305])"
   ]
  },
  {
   "cell_type": "markdown",
   "metadata": {},
   "source": [
    "### 2.2 Word2Vec via gensim"
   ]
  },
  {
   "cell_type": "code",
   "execution_count": 142,
   "metadata": {},
   "outputs": [],
   "source": [
    "from gensim.test.utils import common_texts"
   ]
  },
  {
   "cell_type": "code",
   "execution_count": 143,
   "metadata": {},
   "outputs": [
    {
     "data": {
      "text/plain": [
       "[['les', 'gouvernorats', 'siliana', 'kasserine', 'jendouba', 'souffrent', 'coupures', 'eau', 'potable'], ['jendouba', 'nord', 'vol', 'équipements', 'sonede', 'prive', 'plusieurs', 'régions', 'leau', 'potable'], ...]"
      ]
     },
     "execution_count": 143,
     "metadata": {},
     "output_type": "execute_result"
    }
   ],
   "source": [
    "newcorpus.sents()"
   ]
  },
  {
   "cell_type": "code",
   "execution_count": 144,
   "metadata": {},
   "outputs": [],
   "source": [
    "model = gensim.models.Word2Vec(newcorpus.sents())"
   ]
  },
  {
   "cell_type": "code",
   "execution_count": 145,
   "metadata": {},
   "outputs": [
    {
     "data": {
      "text/plain": [
       "['les',\n",
       " 'jendouba',\n",
       " 'coupures',\n",
       " 'eau',\n",
       " 'potable',\n",
       " 'nord',\n",
       " 'vol',\n",
       " 'équipements',\n",
       " 'sonede',\n",
       " 'plusieurs',\n",
       " 'régions',\n",
       " 'leau',\n",
       " 'travaux',\n",
       " 'rt',\n",
       " 'électricité',\n",
       " 'a',\n",
       " 'bangui',\n",
       " 'odilon236',\n",
       " 'centrafrique',\n",
       " 'gouvernement',\n",
       " 'fait',\n",
       " 'peu',\n",
       " 'périphéries',\n",
       " 'faut',\n",
       " 'aussi',\n",
       " 'tunisie',\n",
       " 'prix',\n",
       " 'enfants',\n",
       " 'coupe',\n",
       " 'pendant',\n",
       " 'vie',\n",
       " 'accès',\n",
       " 'assainissement',\n",
       " 'millions',\n",
       " 'personnes',\n",
       " 'sans',\n",
       " 'dun',\n",
       " 'dune',\n",
       " 'mer',\n",
       " 'avant',\n",
       " 'deau',\n",
       " 'chaque',\n",
       " 'travers',\n",
       " 'milliards',\n",
       " 'cette',\n",
       " 'droit',\n",
       " 'reprise',\n",
       " 'approvisionnement',\n",
       " 'région',\n",
       " 'toujours',\n",
       " 'après',\n",
       " 'via',\n",
       " 'rouge',\n",
       " 'selon',\n",
       " 'peau',\n",
       " 'plus',\n",
       " 'besoin',\n",
       " 'dhydratation',\n",
       " 'peaux',\n",
       " 'mature',\n",
       " 'délicates',\n",
       " 'sensibles',\n",
       " 'fragiles',\n",
       " 'voici',\n",
       " 'bonheur',\n",
       " 'rééquilibrante',\n",
       " 'calmante',\n",
       " 'adoucissante',\n",
       " 'apaisante',\n",
       " 'disponible',\n",
       " 'immédiatement',\n",
       " 'heures',\n",
       " 'intestin',\n",
       " 'ni',\n",
       " 'beaucoup',\n",
       " 'jamais',\n",
       " 'rien',\n",
       " 'cest',\n",
       " 'ça',\n",
       " 'sait',\n",
       " 'reconnu',\n",
       " 'ils',\n",
       " 'nont',\n",
       " 'acaweadvocate',\n",
       " 'reportage',\n",
       " 'mort',\n",
       " '4',\n",
       " 'recherche',\n",
       " 'wolordé',\n",
       " 'lextrême',\n",
       " 'cameroun',\n",
       " 'mesure',\n",
       " 'con',\n",
       " 'bouteille',\n",
       " 'sous',\n",
       " 'depuis',\n",
       " 'habitants',\n",
       " 'grenouille',\n",
       " 'là',\n",
       " 'faire',\n",
       " 'pénurie',\n",
       " 'eaux',\n",
       " 'parfum',\n",
       " 'pied',\n",
       " 'bien',\n",
       " 'si',\n",
       " 'deux',\n",
       " 'litres',\n",
       " 'ariana',\n",
       " 'distribution',\n",
       " 'demain',\n",
       " 'partir',\n",
       " '21h',\n",
       " 'gens',\n",
       " 'boire',\n",
       " 'près',\n",
       " 'el',\n",
       " 'plage',\n",
       " 'propose',\n",
       " 'compose',\n",
       " 'grand',\n",
       " 'salon',\n",
       " 'magnésium',\n",
       " 'toutes',\n",
       " 'où',\n",
       " 'population',\n",
       " 'terrain',\n",
       " 'homme',\n",
       " 'comment',\n",
       " 'korba',\n",
       " 'quelques',\n",
       " '2',\n",
       " 'perturbation',\n",
       " 'lapprovisionnement',\n",
       " 'zones',\n",
       " 'raoued',\n",
       " 'minérale',\n",
       " 'unités',\n",
       " 'tout',\n",
       " 'peut',\n",
       " 'dire',\n",
       " 'comme',\n",
       " 'selim',\n",
       " 'region',\n",
       " 'monastir',\n",
       " 'ftdes',\n",
       " 'dénombre',\n",
       " '63',\n",
       " 'délavage',\n",
       " '55',\n",
       " 'délaver',\n",
       " 'jeans',\n",
       " '70',\n",
       " 'coupure',\n",
       " 'mardi',\n",
       " '19',\n",
       " '2019',\n",
       " 'tunis',\n",
       " 'jour',\n",
       " 'vais',\n",
       " 'quand',\n",
       " 'perturbations',\n",
       " 'gafsa',\n",
       " '28',\n",
       " 'opendata',\n",
       " 'passer',\n",
       " 'logiciellibre',\n",
       " 'commun',\n",
       " 'robinet',\n",
       " 'face',\n",
       " 'met',\n",
       " 'lait',\n",
       " 'personne',\n",
       " 'chez',\n",
       " 'vidéo',\n",
       " 'projets',\n",
       " 'sfax',\n",
       " 'projet',\n",
       " '24',\n",
       " '2010',\n",
       " '35',\n",
       " 'photos',\n",
       " 'webdotn',\n",
       " 'village',\n",
       " 'manque',\n",
       " 'tous',\n",
       " 'doit',\n",
       " 'fatymdiallo',\n",
       " 'hypotension',\n",
       " 'orthostatique',\n",
       " 'cause',\n",
       " 'fréquente',\n",
       " 'jeunes',\n",
       " 'déshydratation',\n",
       " 'mayahach',\n",
       " 'sidi',\n",
       " 'mansour',\n",
       " 'tourne',\n",
       " 'canal',\n",
       " 'production',\n",
       " 'traitement',\n",
       " 'route',\n",
       " 'usine',\n",
       " 'conduites',\n",
       " 'jelma',\n",
       " 'sauvagement',\n",
       " 'sabotées',\n",
       " 'réparées',\n",
       " 'leaderstunisie',\n",
       " 'tunivisions',\n",
       " 'hajerbj',\n",
       " 'domicile',\n",
       " 'devient',\n",
       " 'problème',\n",
       " 'épineux',\n",
       " 'matin',\n",
       " 'annonce',\n",
       " 'amina',\n",
       " 'sœur',\n",
       " 'compte',\n",
       " 'marques',\n",
       " 'minérales',\n",
       " 'jannet',\n",
       " 'safia',\n",
       " 'marwa',\n",
       " 'ain',\n",
       " 'oktor',\n",
       " 'garci',\n",
       " 'sabrine',\n",
       " 'fourat']"
      ]
     },
     "execution_count": 145,
     "metadata": {},
     "output_type": "execute_result"
    }
   ],
   "source": [
    "X= list(model.wv.vocab)\n",
    "X"
   ]
  },
  {
   "cell_type": "code",
   "execution_count": 146,
   "metadata": {},
   "outputs": [
    {
     "data": {
      "text/plain": [
       "array([-2.1429969e-02, -2.1078310e-03,  4.2538114e-02,  1.0287820e-02,\n",
       "        1.4368660e-02, -8.9158509e-03, -3.4731679e-02,  2.2725923e-02,\n",
       "       -1.2648627e-02, -3.9628498e-02,  1.1406300e-02, -7.3769521e-03,\n",
       "       -2.1374287e-02,  1.7921127e-02, -1.1380520e-02, -2.8312964e-02,\n",
       "       -3.3381563e-02, -3.2697897e-03,  2.7204767e-05, -1.8693656e-02,\n",
       "       -2.9897229e-03, -1.2347333e-02, -6.7138621e-03, -1.7997291e-02,\n",
       "        1.2340487e-02, -1.0059533e-02,  1.9574257e-02, -3.0733090e-02,\n",
       "        2.1645665e-02, -1.0635798e-02, -5.8916211e-03,  2.0355763e-02,\n",
       "        1.6272755e-02,  6.8278173e-03,  1.5971106e-02,  1.8123290e-02,\n",
       "       -2.5302049e-02, -2.0736270e-02,  8.1543764e-03, -4.6518646e-02,\n",
       "       -7.5916559e-03, -6.2413383e-03,  5.1753535e-03,  1.9878330e-02,\n",
       "       -1.1288807e-02,  2.6289973e-02,  5.7814820e-03, -1.6063316e-04,\n",
       "        1.9945934e-02,  2.9849891e-02,  7.1950308e-03,  2.3378052e-02,\n",
       "       -3.6135239e-03, -5.1534027e-03,  2.8558928e-03, -1.1212820e-02,\n",
       "        1.9511867e-02,  6.8588657e-03,  2.7478594e-02,  1.8567370e-02,\n",
       "       -6.4920960e-03, -1.9196192e-02, -5.2665617e-02,  1.5303782e-02,\n",
       "        1.7850108e-02, -4.2013862e-04,  2.6146119e-02,  3.9874380e-03,\n",
       "       -7.5541073e-03,  3.0469443e-03,  2.1882448e-02,  2.8675912e-02,\n",
       "       -8.5754553e-03, -9.4827032e-03, -3.1445645e-02,  3.3899225e-02,\n",
       "       -2.8225193e-02,  1.6022947e-03, -1.8635569e-02,  1.1706035e-02,\n",
       "       -1.2032494e-02,  2.6066802e-02, -1.6379984e-02, -1.8612061e-02,\n",
       "       -4.8688473e-03, -3.2151472e-02,  8.7308222e-03,  6.2446768e-04,\n",
       "       -3.8829420e-02,  2.5795915e-03,  2.2996671e-02,  1.2744405e-02,\n",
       "       -2.2745913e-02, -5.0905544e-02,  2.7373960e-02,  1.3216914e-02,\n",
       "        2.8610842e-02,  5.1866784e-03,  1.2379742e-02, -2.6886619e-03],\n",
       "      dtype=float32)"
      ]
     },
     "execution_count": 146,
     "metadata": {},
     "output_type": "execute_result"
    }
   ],
   "source": [
    " model.wv['eau']"
   ]
  },
  {
   "cell_type": "code",
   "execution_count": 147,
   "metadata": {},
   "outputs": [
    {
     "name": "stderr",
     "output_type": "stream",
     "text": [
      "/anaconda3/lib/python3.7/site-packages/ipykernel_launcher.py:1: DeprecationWarning: Call to deprecated `most_similar` (Method will be removed in 4.0.0, use self.wv.most_similar() instead).\n",
      "  \"\"\"Entry point for launching an IPython kernel.\n"
     ]
    },
    {
     "data": {
      "text/plain": [
       "[('potable', 0.9832545518875122),\n",
       " ('les', 0.9788177013397217),\n",
       " ('plus', 0.9779624938964844),\n",
       " ('faut', 0.9745000600814819),\n",
       " ('leau', 0.9700896739959717),\n",
       " ('sensibles', 0.9696218967437744),\n",
       " ('délicates', 0.9655733704566956),\n",
       " ('problème', 0.9648923873901367),\n",
       " ('mature', 0.9647103548049927),\n",
       " ('distribution', 0.9632799029350281)]"
      ]
     },
     "execution_count": 147,
     "metadata": {},
     "output_type": "execute_result"
    }
   ],
   "source": [
    "data=model.most_similar('eau')\n",
    "data"
   ]
  },
  {
   "cell_type": "code",
   "execution_count": 150,
   "metadata": {},
   "outputs": [
    {
     "name": "stdout",
     "output_type": "stream",
     "text": [
      "coupure\n"
     ]
    },
    {
     "name": "stderr",
     "output_type": "stream",
     "text": [
      "/anaconda3/lib/python3.7/site-packages/gensim/models/keyedvectors.py:876: FutureWarning: arrays to stack must be passed as a \"sequence\" type such as list or tuple. Support for non-sequence iterables such as generators is deprecated as of NumPy 1.16 and will raise an error in the future.\n",
      "  vectors = vstack(self.word_vec(word, use_norm=True) for word in used_words).astype(REAL)\n"
     ]
    }
   ],
   "source": [
    "dissimlar_words = model.wv.doesnt_match('coupure eau potable'.split())\n",
    "print(dissimlar_words)"
   ]
  },
  {
   "cell_type": "code",
   "execution_count": 151,
   "metadata": {},
   "outputs": [],
   "source": [
    "def similarity_two_words(model,w1, w2):\n",
    "    sim = model.wv.similarity(w1,w2)\n",
    "    #print(\"The similarity between <{}> and <{}>: \".format(w1, w2), sim)\n",
    "    return sim"
   ]
  },
  {
   "cell_type": "code",
   "execution_count": 152,
   "metadata": {},
   "outputs": [
    {
     "data": {
      "text/plain": [
       "0.98325455"
      ]
     },
     "execution_count": 152,
     "metadata": {},
     "output_type": "execute_result"
    }
   ],
   "source": [
    "similarity_two_words(model, 'eau', 'potable')"
   ]
  },
  {
   "cell_type": "code",
   "execution_count": 153,
   "metadata": {},
   "outputs": [
    {
     "data": {
      "text/plain": [
       "0.8854673"
      ]
     },
     "execution_count": 153,
     "metadata": {},
     "output_type": "execute_result"
    }
   ],
   "source": [
    "similarity_two_words(model, 'eau', 'coupure')"
   ]
  },
  {
   "cell_type": "code",
   "execution_count": 154,
   "metadata": {},
   "outputs": [
    {
     "data": {
      "text/plain": [
       "0.7743771"
      ]
     },
     "execution_count": 154,
     "metadata": {},
     "output_type": "execute_result"
    }
   ],
   "source": [
    "similarity_two_words(model, 'eau', 'jendouba')"
   ]
  },
  {
   "cell_type": "code",
   "execution_count": 155,
   "metadata": {},
   "outputs": [
    {
     "data": {
      "text/plain": [
       "0.930248"
      ]
     },
     "execution_count": 155,
     "metadata": {},
     "output_type": "execute_result"
    }
   ],
   "source": [
    "similarity_two_words(model, 'eau', 'tunis')"
   ]
  },
  {
   "cell_type": "code",
   "execution_count": 156,
   "metadata": {},
   "outputs": [],
   "source": [
    "model2 = gensim.models.Word2Vec(newcorpus.sents(),window=2)"
   ]
  },
  {
   "cell_type": "code",
   "execution_count": 157,
   "metadata": {},
   "outputs": [
    {
     "data": {
      "text/plain": [
       "array([-8.6396830e-03, -3.6892067e-03,  1.3984810e-02,  4.5726625e-03,\n",
       "        4.9488707e-03, -1.0600692e-03, -1.4834487e-02,  9.0062506e-03,\n",
       "       -8.4275231e-03, -1.4006047e-02,  2.0561193e-03, -4.8339516e-03,\n",
       "       -1.0254797e-02,  6.7594843e-03, -2.0376977e-03, -1.0073043e-02,\n",
       "       -1.2101924e-02,  1.7034143e-03,  1.1690580e-03, -9.2493501e-03,\n",
       "        2.0828252e-03, -5.2898983e-03, -3.3901962e-03, -7.1207117e-03,\n",
       "        3.0114821e-03, -5.7446905e-03,  7.6343450e-03, -1.2439418e-02,\n",
       "        1.0969409e-02, -5.7563665e-03, -2.8464631e-03,  1.0589947e-02,\n",
       "        5.0841644e-03,  6.0663689e-03,  9.2930282e-03,  9.1709560e-03,\n",
       "       -8.3375312e-03, -9.9844830e-03,  2.4285165e-03, -1.6954938e-02,\n",
       "       -2.9335811e-03, -2.7889612e-03,  5.0623422e-03,  8.8550095e-03,\n",
       "       -5.9121596e-03,  9.5540872e-03,  2.1686067e-03,  6.6362857e-04,\n",
       "        4.7485325e-03,  1.2040647e-02,  1.9481865e-03,  1.1781148e-02,\n",
       "        5.6563166e-04, -2.6295846e-04, -7.9428306e-04,  6.5603454e-05,\n",
       "        8.6889034e-03,  2.2308838e-04,  1.1867670e-02,  6.3762404e-03,\n",
       "       -1.1217747e-03, -1.0401185e-02, -2.3604479e-02,  4.8781596e-03,\n",
       "        7.7234870e-03,  1.6616150e-03,  1.2127275e-02,  1.2330207e-03,\n",
       "       -4.7924765e-03,  1.7149027e-03,  9.6162641e-03,  7.4407798e-03,\n",
       "       -4.6945843e-03, -7.8702731e-05, -1.3992411e-02,  1.6066499e-02,\n",
       "       -1.2919836e-02,  1.2942194e-03, -9.5608076e-03,  8.3539868e-03,\n",
       "       -6.1233044e-03,  1.2145824e-02, -4.1409391e-03, -4.4759656e-03,\n",
       "       -4.8721279e-03, -1.3718016e-02,  2.5470972e-03,  2.1087455e-03,\n",
       "       -1.8710623e-02, -1.3362011e-03,  1.1226571e-02,  4.0274840e-03,\n",
       "       -5.9914095e-03, -1.8188175e-02,  1.1026797e-02,  2.3899965e-03,\n",
       "        1.2700525e-02, -1.5086981e-03,  7.1507860e-03,  6.1311101e-04],\n",
       "      dtype=float32)"
      ]
     },
     "execution_count": 157,
     "metadata": {},
     "output_type": "execute_result"
    }
   ],
   "source": [
    "model2.wv['eau']"
   ]
  },
  {
   "cell_type": "code",
   "execution_count": 158,
   "metadata": {},
   "outputs": [
    {
     "data": {
      "text/plain": [
       "0.90062046"
      ]
     },
     "execution_count": 158,
     "metadata": {},
     "output_type": "execute_result"
    }
   ],
   "source": [
    "similarity_two_words(model2, 'eau', 'potable')"
   ]
  },
  {
   "cell_type": "code",
   "execution_count": 159,
   "metadata": {},
   "outputs": [
    {
     "data": {
      "text/plain": [
       "0.6661516"
      ]
     },
     "execution_count": 159,
     "metadata": {},
     "output_type": "execute_result"
    }
   ],
   "source": [
    "similarity_two_words(model2, 'eau', 'coupure')"
   ]
  },
  {
   "cell_type": "code",
   "execution_count": 160,
   "metadata": {},
   "outputs": [
    {
     "data": {
      "text/plain": [
       "0.7503531"
      ]
     },
     "execution_count": 160,
     "metadata": {},
     "output_type": "execute_result"
    }
   ],
   "source": [
    "similarity_two_words(model2, 'eau', 'tunis')"
   ]
  },
  {
   "cell_type": "code",
   "execution_count": 161,
   "metadata": {},
   "outputs": [
    {
     "data": {
      "text/plain": [
       "[('potable', 0.9006204605102539),\n",
       " ('les', 0.8704516887664795),\n",
       " ('leau', 0.8577367663383484),\n",
       " ('faut', 0.8470708131790161),\n",
       " ('plus', 0.8416270017623901),\n",
       " ('tunisie', 0.8145299553871155),\n",
       " ('problème', 0.8098530769348145),\n",
       " ('a', 0.8068825006484985),\n",
       " ('cause', 0.7974146604537964),\n",
       " ('déshydratation', 0.7913922071456909)]"
      ]
     },
     "execution_count": 161,
     "metadata": {},
     "output_type": "execute_result"
    }
   ],
   "source": [
    "model2.wv.most_similar('eau')"
   ]
  },
  {
   "cell_type": "code",
   "execution_count": 162,
   "metadata": {},
   "outputs": [
    {
     "data": {
      "text/plain": [
       "[('potable', 0.9832545518875122),\n",
       " ('les', 0.9788177013397217),\n",
       " ('plus', 0.9779624938964844),\n",
       " ('faut', 0.9745000600814819),\n",
       " ('leau', 0.9700896739959717),\n",
       " ('sensibles', 0.9696218967437744),\n",
       " ('délicates', 0.9655733704566956),\n",
       " ('problème', 0.9648923873901367),\n",
       " ('mature', 0.9647103548049927),\n",
       " ('distribution', 0.9632799029350281)]"
      ]
     },
     "execution_count": 162,
     "metadata": {},
     "output_type": "execute_result"
    }
   ],
   "source": [
    "model.wv.most_similar('eau')"
   ]
  },
  {
   "cell_type": "markdown",
   "metadata": {},
   "source": [
    "### 2.3 Pre-trained word embedding\n",
    "\n",
    "We use:\n",
    "- google news --> doesn't cover French\n",
    "- Godin word2vec for twitter https://fredericgodin.com/software/ \n",
    "--> Not adapted for tweets in French.\n",
    "- fastText for french docs https://fasttext.cc/docs/en/support.html\n",
    "--> Too general... not adapted to twitter or to the topic (water)"
   ]
  },
  {
   "cell_type": "markdown",
   "metadata": {},
   "source": [
    "#### 2.3.1 GoogleNews"
   ]
  },
  {
   "cell_type": "code",
   "execution_count": 121,
   "metadata": {},
   "outputs": [],
   "source": [
    "from gensim.models import KeyedVectors"
   ]
  },
  {
   "cell_type": "code",
   "execution_count": 124,
   "metadata": {},
   "outputs": [],
   "source": [
    "path = '/Users/basho/fadouaproject/SafeWater/model/GoogleNews-vectors-negative300.bin'"
   ]
  },
  {
   "cell_type": "code",
   "execution_count": 125,
   "metadata": {},
   "outputs": [
    {
     "name": "stderr",
     "output_type": "stream",
     "text": [
      "/anaconda3/lib/python3.7/site-packages/smart_open/smart_open_lib.py:398: UserWarning: This function is deprecated, use smart_open.open instead. See the migration notes for details: https://github.com/RaRe-Technologies/smart_open/blob/master/README.rst#migrating-to-the-new-open-function\n",
      "  'See the migration notes for details: %s' % _MIGRATION_NOTES_URL\n"
     ]
    }
   ],
   "source": [
    "model = KeyedVectors.load_word2vec_format(path, binary=True)"
   ]
  },
  {
   "cell_type": "code",
   "execution_count": 126,
   "metadata": {},
   "outputs": [],
   "source": [
    "vector = model['eau']"
   ]
  },
  {
   "cell_type": "code",
   "execution_count": 127,
   "metadata": {},
   "outputs": [
    {
     "data": {
      "text/plain": [
       "(300,)"
      ]
     },
     "execution_count": 127,
     "metadata": {},
     "output_type": "execute_result"
    }
   ],
   "source": [
    "vector.shape"
   ]
  },
  {
   "cell_type": "code",
   "execution_count": 128,
   "metadata": {},
   "outputs": [],
   "source": [
    "sample = \"tunisie perturbations coupures leau potable cités ettadhamen douar hicher reprise prévue soir selon sonede\""
   ]
  },
  {
   "cell_type": "code",
   "execution_count": 129,
   "metadata": {},
   "outputs": [
    {
     "ename": "KeyError",
     "evalue": "\"word 'tunisie' not in vocabulary\"",
     "output_type": "error",
     "traceback": [
      "\u001b[0;31m---------------------------------------------------------------------------\u001b[0m",
      "\u001b[0;31mKeyError\u001b[0m                                  Traceback (most recent call last)",
      "\u001b[0;32m<ipython-input-129-6f71e7397506>\u001b[0m in \u001b[0;36m<module>\u001b[0;34m()\u001b[0m\n\u001b[0;32m----> 1\u001b[0;31m \u001b[0mvectors\u001b[0m \u001b[0;34m=\u001b[0m \u001b[0;34m[\u001b[0m\u001b[0mmodel\u001b[0m\u001b[0;34m[\u001b[0m\u001b[0mx\u001b[0m\u001b[0;34m]\u001b[0m \u001b[0;32mfor\u001b[0m \u001b[0mx\u001b[0m \u001b[0;32min\u001b[0m \u001b[0msample\u001b[0m\u001b[0;34m.\u001b[0m\u001b[0msplit\u001b[0m\u001b[0;34m(\u001b[0m\u001b[0;34m' '\u001b[0m\u001b[0;34m)\u001b[0m\u001b[0;34m]\u001b[0m\u001b[0;34m\u001b[0m\u001b[0;34m\u001b[0m\u001b[0m\n\u001b[0m",
      "\u001b[0;32m<ipython-input-129-6f71e7397506>\u001b[0m in \u001b[0;36m<listcomp>\u001b[0;34m(.0)\u001b[0m\n\u001b[0;32m----> 1\u001b[0;31m \u001b[0mvectors\u001b[0m \u001b[0;34m=\u001b[0m \u001b[0;34m[\u001b[0m\u001b[0mmodel\u001b[0m\u001b[0;34m[\u001b[0m\u001b[0mx\u001b[0m\u001b[0;34m]\u001b[0m \u001b[0;32mfor\u001b[0m \u001b[0mx\u001b[0m \u001b[0;32min\u001b[0m \u001b[0msample\u001b[0m\u001b[0;34m.\u001b[0m\u001b[0msplit\u001b[0m\u001b[0;34m(\u001b[0m\u001b[0;34m' '\u001b[0m\u001b[0;34m)\u001b[0m\u001b[0;34m]\u001b[0m\u001b[0;34m\u001b[0m\u001b[0;34m\u001b[0m\u001b[0m\n\u001b[0m",
      "\u001b[0;32m/anaconda3/lib/python3.7/site-packages/gensim/models/keyedvectors.py\u001b[0m in \u001b[0;36m__getitem__\u001b[0;34m(self, entities)\u001b[0m\n\u001b[1;32m    350\u001b[0m         \u001b[0;32mif\u001b[0m \u001b[0misinstance\u001b[0m\u001b[0;34m(\u001b[0m\u001b[0mentities\u001b[0m\u001b[0;34m,\u001b[0m \u001b[0mstring_types\u001b[0m\u001b[0;34m)\u001b[0m\u001b[0;34m:\u001b[0m\u001b[0;34m\u001b[0m\u001b[0;34m\u001b[0m\u001b[0m\n\u001b[1;32m    351\u001b[0m             \u001b[0;31m# allow calls like trained_model['office'], as a shorthand for trained_model[['office']]\u001b[0m\u001b[0;34m\u001b[0m\u001b[0;34m\u001b[0m\u001b[0;34m\u001b[0m\u001b[0m\n\u001b[0;32m--> 352\u001b[0;31m             \u001b[0;32mreturn\u001b[0m \u001b[0mself\u001b[0m\u001b[0;34m.\u001b[0m\u001b[0mget_vector\u001b[0m\u001b[0;34m(\u001b[0m\u001b[0mentities\u001b[0m\u001b[0;34m)\u001b[0m\u001b[0;34m\u001b[0m\u001b[0;34m\u001b[0m\u001b[0m\n\u001b[0m\u001b[1;32m    353\u001b[0m \u001b[0;34m\u001b[0m\u001b[0m\n\u001b[1;32m    354\u001b[0m         \u001b[0;32mreturn\u001b[0m \u001b[0mvstack\u001b[0m\u001b[0;34m(\u001b[0m\u001b[0;34m[\u001b[0m\u001b[0mself\u001b[0m\u001b[0;34m.\u001b[0m\u001b[0mget_vector\u001b[0m\u001b[0;34m(\u001b[0m\u001b[0mentity\u001b[0m\u001b[0;34m)\u001b[0m \u001b[0;32mfor\u001b[0m \u001b[0mentity\u001b[0m \u001b[0;32min\u001b[0m \u001b[0mentities\u001b[0m\u001b[0;34m]\u001b[0m\u001b[0;34m)\u001b[0m\u001b[0;34m\u001b[0m\u001b[0;34m\u001b[0m\u001b[0m\n",
      "\u001b[0;32m/anaconda3/lib/python3.7/site-packages/gensim/models/keyedvectors.py\u001b[0m in \u001b[0;36mget_vector\u001b[0;34m(self, word)\u001b[0m\n\u001b[1;32m    468\u001b[0m \u001b[0;34m\u001b[0m\u001b[0m\n\u001b[1;32m    469\u001b[0m     \u001b[0;32mdef\u001b[0m \u001b[0mget_vector\u001b[0m\u001b[0;34m(\u001b[0m\u001b[0mself\u001b[0m\u001b[0;34m,\u001b[0m \u001b[0mword\u001b[0m\u001b[0;34m)\u001b[0m\u001b[0;34m:\u001b[0m\u001b[0;34m\u001b[0m\u001b[0;34m\u001b[0m\u001b[0m\n\u001b[0;32m--> 470\u001b[0;31m         \u001b[0;32mreturn\u001b[0m \u001b[0mself\u001b[0m\u001b[0;34m.\u001b[0m\u001b[0mword_vec\u001b[0m\u001b[0;34m(\u001b[0m\u001b[0mword\u001b[0m\u001b[0;34m)\u001b[0m\u001b[0;34m\u001b[0m\u001b[0;34m\u001b[0m\u001b[0m\n\u001b[0m\u001b[1;32m    471\u001b[0m \u001b[0;34m\u001b[0m\u001b[0m\n\u001b[1;32m    472\u001b[0m     \u001b[0;32mdef\u001b[0m \u001b[0mwords_closer_than\u001b[0m\u001b[0;34m(\u001b[0m\u001b[0mself\u001b[0m\u001b[0;34m,\u001b[0m \u001b[0mw1\u001b[0m\u001b[0;34m,\u001b[0m \u001b[0mw2\u001b[0m\u001b[0;34m)\u001b[0m\u001b[0;34m:\u001b[0m\u001b[0;34m\u001b[0m\u001b[0;34m\u001b[0m\u001b[0m\n",
      "\u001b[0;32m/anaconda3/lib/python3.7/site-packages/gensim/models/keyedvectors.py\u001b[0m in \u001b[0;36mword_vec\u001b[0;34m(self, word, use_norm)\u001b[0m\n\u001b[1;32m    465\u001b[0m             \u001b[0;32mreturn\u001b[0m \u001b[0mresult\u001b[0m\u001b[0;34m\u001b[0m\u001b[0;34m\u001b[0m\u001b[0m\n\u001b[1;32m    466\u001b[0m         \u001b[0;32melse\u001b[0m\u001b[0;34m:\u001b[0m\u001b[0;34m\u001b[0m\u001b[0;34m\u001b[0m\u001b[0m\n\u001b[0;32m--> 467\u001b[0;31m             \u001b[0;32mraise\u001b[0m \u001b[0mKeyError\u001b[0m\u001b[0;34m(\u001b[0m\u001b[0;34m\"word '%s' not in vocabulary\"\u001b[0m \u001b[0;34m%\u001b[0m \u001b[0mword\u001b[0m\u001b[0;34m)\u001b[0m\u001b[0;34m\u001b[0m\u001b[0;34m\u001b[0m\u001b[0m\n\u001b[0m\u001b[1;32m    468\u001b[0m \u001b[0;34m\u001b[0m\u001b[0m\n\u001b[1;32m    469\u001b[0m     \u001b[0;32mdef\u001b[0m \u001b[0mget_vector\u001b[0m\u001b[0;34m(\u001b[0m\u001b[0mself\u001b[0m\u001b[0;34m,\u001b[0m \u001b[0mword\u001b[0m\u001b[0;34m)\u001b[0m\u001b[0;34m:\u001b[0m\u001b[0;34m\u001b[0m\u001b[0;34m\u001b[0m\u001b[0m\n",
      "\u001b[0;31mKeyError\u001b[0m: \"word 'tunisie' not in vocabulary\""
     ]
    }
   ],
   "source": [
    "vectors = [model[x] for x in sample.split(' ')]"
   ]
  },
  {
   "cell_type": "markdown",
   "metadata": {},
   "source": [
    "#### 2.3.2 Godin model"
   ]
  },
  {
   "cell_type": "code",
   "execution_count": 29,
   "metadata": {},
   "outputs": [],
   "source": [
    "from gensim.models import KeyedVectors"
   ]
  },
  {
   "cell_type": "code",
   "execution_count": 30,
   "metadata": {},
   "outputs": [],
   "source": [
    "path = 'model/word2vec_twitter_model/word2vec_twitter_model.bin'"
   ]
  },
  {
   "cell_type": "code",
   "execution_count": null,
   "metadata": {},
   "outputs": [
    {
     "name": "stderr",
     "output_type": "stream",
     "text": [
      "/Users/Origami/anaconda3/lib/python3.6/site-packages/smart_open/smart_open_lib.py:398: UserWarning: This function is deprecated, use smart_open.open instead. See the migration notes for details: https://github.com/RaRe-Technologies/smart_open/blob/master/README.rst#migrating-to-the-new-open-function\n",
      "  'See the migration notes for details: %s' % _MIGRATION_NOTES_URL\n"
     ]
    }
   ],
   "source": [
    "model = KeyedVectors.load_word2vec_format(path, binary=True, unicode_errors='ignore')"
   ]
  },
  {
   "cell_type": "code",
   "execution_count": null,
   "metadata": {},
   "outputs": [],
   "source": [
    "# Access vectors for specific words with a keyed lookup:\n",
    "vector = model['eau']\n",
    "#vector"
   ]
  },
  {
   "cell_type": "code",
   "execution_count": 43,
   "metadata": {},
   "outputs": [
    {
     "ename": "AttributeError",
     "evalue": "'list' object has no attribute 'shape'",
     "output_type": "error",
     "traceback": [
      "\u001b[0;31m---------------------------------------------------------------------------\u001b[0m",
      "\u001b[0;31mAttributeError\u001b[0m                            Traceback (most recent call last)",
      "\u001b[0;32m<ipython-input-43-42977f4d420e>\u001b[0m in \u001b[0;36m<module>\u001b[0;34m()\u001b[0m\n\u001b[0;32m----> 1\u001b[0;31m \u001b[0mvector\u001b[0m\u001b[0;34m.\u001b[0m\u001b[0mshape\u001b[0m\u001b[0;34m\u001b[0m\u001b[0;34m\u001b[0m\u001b[0m\n\u001b[0m",
      "\u001b[0;31mAttributeError\u001b[0m: 'list' object has no attribute 'shape'"
     ]
    }
   ],
   "source": [
    "vector.shape"
   ]
  },
  {
   "cell_type": "code",
   "execution_count": 44,
   "metadata": {},
   "outputs": [],
   "source": [
    "#vector = model['gouvernorats'] # gouvernorats not included in the vocabulary. Godin word2vec is not for french language\n",
    "#vector"
   ]
  },
  {
   "cell_type": "markdown",
   "metadata": {},
   "source": [
    "#### 2.3.3 fastText"
   ]
  },
  {
   "cell_type": "code",
   "execution_count": 33,
   "metadata": {},
   "outputs": [],
   "source": [
    "import fasttext"
   ]
  },
  {
   "cell_type": "code",
   "execution_count": 31,
   "metadata": {},
   "outputs": [],
   "source": [
    "def make_data_from_tweets(tweets):\n",
    "    filename = 0\n",
    "    file = open('data.txt','a')\n",
    "    for tw in tweets:\n",
    "        file.write(tw)\n",
    "    file.close()"
   ]
  },
  {
   "cell_type": "code",
   "execution_count": 32,
   "metadata": {},
   "outputs": [],
   "source": [
    "#make_data_from_tweets(clean_collection(tweets, lem=True))"
   ]
  },
  {
   "cell_type": "code",
   "execution_count": 29,
   "metadata": {},
   "outputs": [],
   "source": [
    "path = '/Users/basho/fadouaproject/SafeWater/model/cc.fr.300.bin'\n",
    "\n",
    "# CBOW model\n",
    "model = fasttext.cbow('data.txt', path)\n",
    "\n",
    "# Access vectors for specific words with a keyed lookup:\n",
    "#"
   ]
  },
  {
   "cell_type": "code",
   "execution_count": 30,
   "metadata": {},
   "outputs": [],
   "source": [
    "vector = model['eau']\n",
    "#vector"
   ]
  },
  {
   "cell_type": "code",
   "execution_count": 31,
   "metadata": {},
   "outputs": [
    {
     "data": {
      "text/plain": [
       "100"
      ]
     },
     "execution_count": 31,
     "metadata": {},
     "output_type": "execute_result"
    }
   ],
   "source": [
    "len(vector)"
   ]
  },
  {
   "cell_type": "code",
   "execution_count": 32,
   "metadata": {},
   "outputs": [],
   "source": [
    "vector = model['gouvernorats']\n",
    "#vector"
   ]
  },
  {
   "cell_type": "code",
   "execution_count": 33,
   "metadata": {},
   "outputs": [],
   "source": [
    "vectors = [model[x] for x in [s for s in clean_collection(tweets, lem=True)]]"
   ]
  },
  {
   "cell_type": "code",
   "execution_count": 34,
   "metadata": {},
   "outputs": [],
   "source": [
    "vectors=np.array(vectors)"
   ]
  },
  {
   "cell_type": "code",
   "execution_count": 35,
   "metadata": {},
   "outputs": [
    {
     "data": {
      "text/plain": [
       "array([[ 0.01510056, -0.04534726, -0.02222504, ..., -0.03518727,\n",
       "         0.15241031,  0.12867574],\n",
       "       [ 0.01911572, -0.06287023, -0.03116055, ..., -0.04759455,\n",
       "         0.20960853,  0.17671601],\n",
       "       [ 0.01325244, -0.04773147, -0.02495549, ..., -0.03608626,\n",
       "         0.16396153,  0.1380997 ],\n",
       "       ...,\n",
       "       [ 0.00328554, -0.00538237, -0.00224848, ..., -0.0023036 ,\n",
       "         0.00906369,  0.00774935],\n",
       "       [ 0.01953404, -0.07345748, -0.03722223, ..., -0.05470436,\n",
       "         0.24624388,  0.20672752],\n",
       "       [ 0.00290398, -0.00419246, -0.00149947, ..., -0.00213428,\n",
       "         0.00539392,  0.00481484]])"
      ]
     },
     "execution_count": 35,
     "metadata": {},
     "output_type": "execute_result"
    }
   ],
   "source": [
    "embedding_matrix=np.vstack(vectors)\n",
    "embedding_matrix"
   ]
  },
  {
   "cell_type": "code",
   "execution_count": 36,
   "metadata": {},
   "outputs": [
    {
     "data": {
      "text/plain": [
       "(286, 100)"
      ]
     },
     "execution_count": 36,
     "metadata": {},
     "output_type": "execute_result"
    }
   ],
   "source": [
    "embedding_matrix.shape"
   ]
  },
  {
   "cell_type": "code",
   "execution_count": 37,
   "metadata": {},
   "outputs": [
    {
     "data": {
      "text/plain": [
       "0.9991000063539089"
      ]
     },
     "execution_count": 37,
     "metadata": {},
     "output_type": "execute_result"
    }
   ],
   "source": [
    "model.cosine_similarity('eau','tunis')"
   ]
  },
  {
   "cell_type": "code",
   "execution_count": 38,
   "metadata": {},
   "outputs": [
    {
     "data": {
      "text/plain": [
       "0.9998339438408912"
      ]
     },
     "execution_count": 38,
     "metadata": {},
     "output_type": "execute_result"
    }
   ],
   "source": [
    "model.cosine_similarity('eau','coupure')"
   ]
  },
  {
   "cell_type": "code",
   "execution_count": 39,
   "metadata": {},
   "outputs": [
    {
     "data": {
      "text/plain": [
       "0.9994097436713149"
      ]
     },
     "execution_count": 39,
     "metadata": {},
     "output_type": "execute_result"
    }
   ],
   "source": [
    "model.cosine_similarity('eau','projet')"
   ]
  },
  {
   "cell_type": "code",
   "execution_count": 40,
   "metadata": {},
   "outputs": [
    {
     "data": {
      "text/plain": [
       "0.9996437167357842"
      ]
     },
     "execution_count": 40,
     "metadata": {},
     "output_type": "execute_result"
    }
   ],
   "source": [
    "model.cosine_similarity('eau','distribution')"
   ]
  },
  {
   "cell_type": "code",
   "execution_count": 41,
   "metadata": {},
   "outputs": [
    {
     "data": {
      "text/plain": [
       "{'108',\n",
       " '12',\n",
       " '15',\n",
       " '19',\n",
       " '2',\n",
       " '20',\n",
       " '2010',\n",
       " '2019',\n",
       " '3',\n",
       " '35',\n",
       " '4',\n",
       " '5',\n",
       " '55',\n",
       " '611',\n",
       " '63',\n",
       " '70',\n",
       " '85rt',\n",
       " 'a',\n",
       " 'absorbe',\n",
       " 'acaweadvocate',\n",
       " 'accès',\n",
       " 'adoucissante',\n",
       " 'analysé',\n",
       " 'annonce',\n",
       " 'années',\n",
       " 'ans',\n",
       " 'antiâge',\n",
       " 'apaisante',\n",
       " 'apprend',\n",
       " 'approvisionnement',\n",
       " 'ariana',\n",
       " 'arrêt',\n",
       " 'assainissement',\n",
       " 'astes',\n",
       " 'augmentation',\n",
       " 'augmente',\n",
       " 'aujourd',\n",
       " 'aussi',\n",
       " 'autant',\n",
       " 'autorités',\n",
       " 'avant',\n",
       " 'baie',\n",
       " 'balbutiante',\n",
       " 'bangui',\n",
       " 'basé',\n",
       " 'beaucoup',\n",
       " 'besoin',\n",
       " 'bien',\n",
       " 'boire',\n",
       " 'bonheur',\n",
       " 'bouteille',\n",
       " 'calmante',\n",
       " 'cameroun',\n",
       " 'canal',\n",
       " 'candidat',\n",
       " 'capacité',\n",
       " 'casa',\n",
       " 'centrafrique',\n",
       " 'cest',\n",
       " 'cette',\n",
       " 'cettert',\n",
       " 'chambres',\n",
       " 'chercheurs',\n",
       " 'choix',\n",
       " 'chronique',\n",
       " 'citoyens',\n",
       " 'comme',\n",
       " 'commun',\n",
       " 'compose',\n",
       " 'conrt',\n",
       " 'consacrés',\n",
       " 'contre',\n",
       " 'coucher',\n",
       " 'coupe',\n",
       " 'coupure',\n",
       " 'coupures',\n",
       " 'crise',\n",
       " 'cuisine',\n",
       " 'deau',\n",
       " 'demain',\n",
       " 'denfants',\n",
       " 'depuis',\n",
       " 'dernières',\n",
       " 'desserte',\n",
       " 'desservant',\n",
       " 'deux',\n",
       " 'devient',\n",
       " 'dhydratation',\n",
       " 'dinars',\n",
       " 'dire',\n",
       " 'disponible',\n",
       " 'distribution',\n",
       " 'donc',\n",
       " 'droit',\n",
       " 'dun',\n",
       " 'dune',\n",
       " 'durant',\n",
       " 'découvert',\n",
       " 'délavage',\n",
       " 'délaver',\n",
       " 'délicates',\n",
       " 'dénombre',\n",
       " 'développement',\n",
       " 'eau',\n",
       " 'eaux',\n",
       " 'el',\n",
       " 'encore',\n",
       " 'enfants',\n",
       " 'entrave',\n",
       " 'environnementale',\n",
       " 'face',\n",
       " 'fait',\n",
       " 'famille',\n",
       " 'faut',\n",
       " 'fautrt',\n",
       " 'femme',\n",
       " 'feu',\n",
       " 'filtrant',\n",
       " 'fondouk',\n",
       " 'fragiles',\n",
       " 'ftdes',\n",
       " 'février',\n",
       " 'gafrej',\n",
       " 'ghedir',\n",
       " 'golla',\n",
       " 'gouvernement',\n",
       " 'gouvernorats',\n",
       " 'grand',\n",
       " 'gros',\n",
       " 'habitants',\n",
       " 'histoire',\n",
       " 'homme',\n",
       " 'hui',\n",
       " 'humains',\n",
       " 'imed',\n",
       " 'importants',\n",
       " 'inaugure',\n",
       " 'intermédiaire',\n",
       " 'intestin',\n",
       " 'jamais',\n",
       " 'jeans',\n",
       " 'jedid',\n",
       " 'jendouba',\n",
       " 'jour',\n",
       " 'korba',\n",
       " 'lait',\n",
       " 'lapprovisionnement',\n",
       " 'leau',\n",
       " 'les',\n",
       " 'lextrême',\n",
       " 'liberté',\n",
       " 'libre',\n",
       " 'lit',\n",
       " 'litres',\n",
       " 'logiciellibre',\n",
       " 'là',\n",
       " 'magnésium',\n",
       " 'majerda',\n",
       " 'manque',\n",
       " 'marcher',\n",
       " 'mardi',\n",
       " 'mature',\n",
       " 'mer',\n",
       " 'mesure',\n",
       " 'mettre',\n",
       " 'mille',\n",
       " 'milliards',\n",
       " 'millions',\n",
       " 'millirt',\n",
       " 'minérale',\n",
       " 'mis',\n",
       " 'monastir',\n",
       " 'mort',\n",
       " 'mètre',\n",
       " 'mètres',\n",
       " 'nabeul',\n",
       " 'national',\n",
       " 'nationale',\n",
       " 'ni',\n",
       " 'niveau',\n",
       " 'nont',\n",
       " 'nord',\n",
       " 'norme',\n",
       " 'nuit',\n",
       " 'odilon236',\n",
       " 'oeufs',\n",
       " 'opendata',\n",
       " 'oxygène',\n",
       " 'où',\n",
       " 'parfum',\n",
       " 'partir',\n",
       " 'passer',\n",
       " 'pays',\n",
       " 'peau',\n",
       " 'peaux',\n",
       " 'pendant',\n",
       " 'personne',\n",
       " 'personnes',\n",
       " 'perturbation',\n",
       " 'perturbations',\n",
       " 'peuple',\n",
       " 'peut',\n",
       " 'pied',\n",
       " 'plage',\n",
       " 'plus',\n",
       " 'plusieurs',\n",
       " 'pompe',\n",
       " 'population',\n",
       " 'potable',\n",
       " 'potablechef',\n",
       " 'prive',\n",
       " 'prix',\n",
       " 'problème',\n",
       " 'production',\n",
       " 'projet',\n",
       " 'projets',\n",
       " 'propose',\n",
       " 'près',\n",
       " 'prêt',\n",
       " 'pénurie',\n",
       " 'périphéries',\n",
       " 'quand',\n",
       " 'quelques',\n",
       " 'question',\n",
       " 'raoudha',\n",
       " 'raoued',\n",
       " 'recherche',\n",
       " 'reconnu',\n",
       " 'region',\n",
       " 'reportage',\n",
       " 'reprise',\n",
       " 'robinet',\n",
       " 'routes',\n",
       " 'rt',\n",
       " 'région',\n",
       " 'régions',\n",
       " 'rééquilibrante',\n",
       " 'salle',\n",
       " 'salon',\n",
       " 'sans',\n",
       " 'santé',\n",
       " 'secteur',\n",
       " 'selim',\n",
       " 'selon',\n",
       " 'sensibles',\n",
       " 'seulement',\n",
       " 'si',\n",
       " 'sitin',\n",
       " 'situation',\n",
       " 'sonede',\n",
       " 'sous',\n",
       " 'sérum',\n",
       " 'terrain',\n",
       " 'toujours',\n",
       " 'touristique',\n",
       " 'tous',\n",
       " 'tout',\n",
       " 'toutes',\n",
       " 'traitement',\n",
       " 'transforme',\n",
       " 'transit',\n",
       " 'travaux',\n",
       " 'travers',\n",
       " 'tripoli',\n",
       " 'très',\n",
       " 'tunis',\n",
       " 'tunisie',\n",
       " 'tunivisions',\n",
       " 'unités',\n",
       " 'usine',\n",
       " 'usées',\n",
       " 'veut',\n",
       " 'via',\n",
       " 'vie',\n",
       " 'vivent',\n",
       " 'voici',\n",
       " 'vol',\n",
       " 'wolordé',\n",
       " 'zone',\n",
       " 'zones',\n",
       " 'égalité',\n",
       " 'électricité',\n",
       " 'énergie',\n",
       " 'épineux',\n",
       " 'équipements',\n",
       " 'équipée'}"
      ]
     },
     "execution_count": 41,
     "metadata": {},
     "output_type": "execute_result"
    }
   ],
   "source": [
    "model.words #.difference('eau','coupure')"
   ]
  },
  {
   "cell_type": "code",
   "execution_count": 1,
   "metadata": {},
   "outputs": [
    {
     "ename": "NameError",
     "evalue": "name 'fasttext' is not defined",
     "output_type": "error",
     "traceback": [
      "\u001b[0;31m---------------------------------------------------------------------------\u001b[0m",
      "\u001b[0;31mNameError\u001b[0m                                 Traceback (most recent call last)",
      "\u001b[0;32m<ipython-input-1-e025eedf43f8>\u001b[0m in \u001b[0;36m<module>\u001b[0;34m()\u001b[0m\n\u001b[0;32m----> 1\u001b[0;31m \u001b[0mclassifier\u001b[0m \u001b[0;34m=\u001b[0m \u001b[0mfasttext\u001b[0m\u001b[0;34m.\u001b[0m\u001b[0msupervised\u001b[0m\u001b[0;34m(\u001b[0m\u001b[0;34m'/Users/basho/fadouaproject/SafeWater/data.txt'\u001b[0m\u001b[0;34m,\u001b[0m \u001b[0mpath\u001b[0m\u001b[0;34m)\u001b[0m\u001b[0;34m\u001b[0m\u001b[0;34m\u001b[0m\u001b[0m\n\u001b[0m",
      "\u001b[0;31mNameError\u001b[0m: name 'fasttext' is not defined"
     ]
    }
   ],
   "source": [
    "classifier = fasttext.supervised('/Users/basho/fadouaproject/SafeWater/data.txt', path)"
   ]
  },
  {
   "cell_type": "code",
   "execution_count": null,
   "metadata": {},
   "outputs": [],
   "source": [
    "result = classifier.test('Coupure deau prevue a Tunis et Ariana le soir')"
   ]
  },
  {
   "cell_type": "code",
   "execution_count": null,
   "metadata": {},
   "outputs": [],
   "source": []
  }
 ],
 "metadata": {
  "kernelspec": {
   "display_name": "Python 3",
   "language": "python",
   "name": "python3"
  },
  "language_info": {
   "codemirror_mode": {
    "name": "ipython",
    "version": 3
   },
   "file_extension": ".py",
   "mimetype": "text/x-python",
   "name": "python",
   "nbconvert_exporter": "python",
   "pygments_lexer": "ipython3",
   "version": "3.7.2"
  }
 },
 "nbformat": 4,
 "nbformat_minor": 2
}
